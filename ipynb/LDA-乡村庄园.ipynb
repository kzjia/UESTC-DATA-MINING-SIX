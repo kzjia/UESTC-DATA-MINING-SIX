{
 "cells": [
  {
   "cell_type": "code",
   "execution_count": 2,
   "metadata": {},
   "outputs": [],
   "source": [
    "#导入相关包\n",
    "import pandas as pd\n",
    "import numpy as np\n",
    "from snownlp import SnowNLP #情感分析\n",
    "import jieba\n",
    "import pyLDAvis.gensim       #LDA可视化\n",
    "import wordcloud             #词云\n",
    "import os, codecs\n",
    "import seaborn as sns\n",
    "from pylab import mpl\n",
    "import jieba.posseg as pseg\n",
    "import matplotlib.pyplot as plt\n",
    "from collections import Counter\n",
    "from gensim import corpora,models"
   ]
  },
  {
   "cell_type": "markdown",
   "metadata": {},
   "source": [
    "# 预处理"
   ]
  },
  {
   "cell_type": "code",
   "execution_count": 3,
   "metadata": {},
   "outputs": [],
   "source": [
    "#导入数据\n",
    "df=pd.read_csv('F:\\乡村庄园.csv')\n",
    "df1= df['text']\n",
    "#df1.head()"
   ]
  },
  {
   "cell_type": "code",
   "execution_count": 4,
   "metadata": {},
   "outputs": [
    {
     "data": {
      "text/plain": [
       "False    4102\n",
       "Name: text, dtype: int64"
      ]
     },
     "execution_count": 4,
     "metadata": {},
     "output_type": "execute_result"
    }
   ],
   "source": [
    "#查询重复值\n",
    "df1.duplicated().value_counts() \n",
    "#处理重复值\n",
    "df2= df1.drop_duplicates()\n",
    "df2.duplicated().value_counts()"
   ]
  },
  {
   "cell_type": "code",
   "execution_count": null,
   "metadata": {
    "scrolled": true
   },
   "outputs": [],
   "source": []
  },
  {
   "cell_type": "code",
   "execution_count": 5,
   "metadata": {},
   "outputs": [],
   "source": [
    "#去除短句，保留长度大于5的数据\n",
    "df3 = df2[df2.str.len()>5]\n",
    "df3 = df3.reset_index(drop=True)\n",
    "data = df3.tolist()            #list形式"
   ]
  },
  {
   "cell_type": "code",
   "execution_count": 6,
   "metadata": {
    "scrolled": false
   },
   "outputs": [
    {
     "data": {
      "text/plain": [
       "0    非常棒，如果去山西看大院或者民居，绝对不容错过，首先有规模，12万平方米，乔家一个院，常家两...\n",
       "1    晋中最好玩最值得一去的地方啦。交通便利，市内公车一小时直达。庄园很大很美丽，多部影视剧的取景...\n",
       "2    乔家大院、王家大院、常家庄园相比，感觉常家庄园最好，王家大院次之，乔家大院相比之下根本不值一...\n",
       "3    这个景点不适合冬天去游览的，我们2月初从太原站对面坐901到榆次老城再转12才到常家庄园的，...\n",
       "4    很不错，值得一去，儒家思想，比乔家大院有思想，后花园也不错，景色宜人，流连忘返啊，是许多电影...\n",
       "Name: text, dtype: object"
      ]
     },
     "execution_count": 6,
     "metadata": {},
     "output_type": "execute_result"
    }
   ],
   "source": [
    "df3.head()"
   ]
  },
  {
   "cell_type": "markdown",
   "metadata": {},
   "source": [
    "# 分词"
   ]
  },
  {
   "cell_type": "code",
   "execution_count": 7,
   "metadata": {},
   "outputs": [
    {
     "name": "stderr",
     "output_type": "stream",
     "text": [
      "<>:6: DeprecationWarning: invalid escape sequence \\s\n",
      "<>:6: DeprecationWarning: invalid escape sequence \\s\n",
      "<>:6: DeprecationWarning: invalid escape sequence \\s\n",
      "<ipython-input-7-4c5bede52888>:6: DeprecationWarning: invalid escape sequence \\s\n",
      "  f_stop = open('E:\\课程相关\\大三下\\综合课程设计\\stopWord.txt','r',encoding='UTF-8')\n"
     ]
    }
   ],
   "source": [
    "def load_stopword():\n",
    "    '''\n",
    "    加载停用词表\n",
    "    :return: 返回停用词的列表\n",
    "    '''\n",
    "    f_stop = open('E:\\课程相关\\大三下\\综合课程设计\\stopWord.txt','r',encoding='UTF-8')\n",
    "    sw = [line.strip() for line in f_stop]\n",
    "    f_stop.close()\n",
    "    sw.append('\\n')\n",
    "    return sw"
   ]
  },
  {
   "cell_type": "code",
   "execution_count": 8,
   "metadata": {},
   "outputs": [
    {
     "name": "stderr",
     "output_type": "stream",
     "text": [
      "<>:2: DeprecationWarning: invalid escape sequence \\d\n",
      "<>:2: DeprecationWarning: invalid escape sequence \\d\n",
      "<>:2: DeprecationWarning: invalid escape sequence \\d\n",
      "<ipython-input-8-c28050539b20>:2: DeprecationWarning: invalid escape sequence \\d\n",
      "  jieba.load_userdict(\"E:\\课程相关\\大三下\\综合课程设计\\dict.txt\")  #自定义字典\n",
      "Building prefix dict from the default dictionary ...\n",
      "Loading model from cache C:\\Users\\59433\\AppData\\Local\\Temp\\jieba.cache\n",
      "Loading model cost 0.875 seconds.\n",
      "Prefix dict has been built successfully.\n"
     ]
    },
    {
     "name": "stdout",
     "output_type": "stream",
     "text": [
      "词频度统计结果\n",
      "建筑:617\n",
      "景色:453\n",
      "孩子:301\n",
      "风情:259\n",
      "小时:258\n",
      "门票:245\n",
      "环境:243\n",
      "游玩:224\n",
      "文化:216\n",
      "葡萄:197\n"
     ]
    }
   ],
   "source": [
    "stopwords = load_stopword()  #加载停用词表\n",
    "jieba.load_userdict(\"E:\\课程相关\\大三下\\综合课程设计\\dict.txt\")  #自定义字典\n",
    "text_list = []\n",
    "cloud_text = ''\n",
    "c = Counter()\n",
    "for i in range(len(df3)):\n",
    "    seg_list = jieba.posseg.cut(df3[i])\n",
    "    mytext_list=[]\n",
    "    for x in seg_list:\n",
    "        if len(x.word)>1 and x.word != '\\r\\n' and x.word not in stopwords and x.flag =='n':   #x.flag =='n'表示只保留名词\n",
    "            c[x.word] += 1\n",
    "            mytext_list.append(x.word.replace(\" \",\"\"))\n",
    "    text_list.append(mytext_list)      \n",
    "    cloud_text+=\",\".join(mytext_list)  #绘制词云\n",
    "print('词频度统计结果')\n",
    "for (k,v) in c.most_common(10):\n",
    "    print('{}:{}'.format(k,v))"
   ]
  },
  {
   "cell_type": "code",
   "execution_count": 9,
   "metadata": {},
   "outputs": [
    {
     "data": {
      "image/png": "[encoded data removed]",
      "text/plain": [
       "<Figure size 432x288 with 1 Axes>"
      ]
     },
     "metadata": {
      "needs_background": "light"
     },
     "output_type": "display_data"
    }
   ],
   "source": [
    "#创建词云\n",
    "font = \"C:\\\\Windows\\\\Fonts\\\\HGZY_CNKI.TTF\"#词云的中文字体所在路径\n",
    "wc = wordcloud.WordCloud(\n",
    "    scale = 7,\n",
    "    background_color=\"white\", #背景颜色\n",
    "    #max_words=200, #显示最大词数\n",
    "    font_path=font,\n",
    "    min_font_size=15,\n",
    "    max_font_size=50, \n",
    "    width=400  #图幅宽度\n",
    "    )\n",
    "wc.generate(cloud_text)\n",
    "\n",
    "plt.imshow(wc)\n",
    "plt.axis(\"off\")\n",
    "plt.show()"
   ]
  },
  {
   "cell_type": "code",
   "execution_count": null,
   "metadata": {
    "scrolled": true
   },
   "outputs": [],
   "source": []
  },
  {
   "cell_type": "markdown",
   "metadata": {},
   "source": [
    "# LDA主题分析"
   ]
  },
  {
   "cell_type": "code",
   "execution_count": 10,
   "metadata": {},
   "outputs": [],
   "source": [
    "# 主题分析\n",
    "text_dict = corpora.Dictionary(text_list) # 创建语料的词语词典，每个单独的词语都会被赋予一个索引\n",
    "text_corpus = [text_dict.doc2bow(i) for i in text_list] #创建语料库\n",
    "tfidf = models.TfidfModel(text_corpus)\n",
    "corpus_tfidf = tfidf[text_corpus]"
   ]
  },
  {
   "cell_type": "code",
   "execution_count": 43,
   "metadata": {},
   "outputs": [
    {
     "data": {
      "image/png": "[encoded data removed]",
      "text/plain": [
       "<Figure size 2160x1080 with 2 Axes>"
      ]
     },
     "metadata": {
      "needs_background": "light"
     },
     "output_type": "display_data"
    }
   ],
   "source": [
    "#模型评估：困惑度 &一致度\n",
    "x_list = []\n",
    "y_plist =[]\n",
    "y_clist =[]\n",
    "for i in range(2,50):\n",
    "    text_lda = models.LdaModel(corpus_tfidf,num_topics = i,id2word =text_dict ) # LDA模型训练\n",
    "    #困惑度\n",
    "    perplexity = text_lda.log_perplexity(corpus_tfidf)  \n",
    "    #一致度\n",
    "    cv_tmp = models.CoherenceModel(model=text_lda,texts=text_list, dictionary=text_dict, coherence='c_v')\n",
    "    x_list.append(i)\n",
    "    y_plist.append(perplexity)\n",
    "    y_clist.append(cv_tmp.get_coherence())\n",
    "#困惑度绘图    \n",
    "plt.figure(figsize=(30,15))    \n",
    "plt.subplot(1,2,1)\n",
    "plt.plot(x_list,y_plist)\n",
    "plt.xticks(np.linspace(0, 50, 51))\n",
    "plt.xlabel('num topics')\n",
    "plt.ylabel('perplexity score')\n",
    "plt.legend(('perplexity_values'), loc='best')\n",
    "#一致度绘图\n",
    "plt.subplot(1,2,2)\n",
    "plt.plot(x_list,y_clist)\n",
    "plt.xticks(np.linspace(0, 50, 51))\n",
    "plt.xlabel('num topics')\n",
    "plt.ylabel('coherence score')\n",
    "plt.legend(('coherence_values'), loc='best')\n",
    "\n",
    "plt.show()"
   ]
  },
  {
   "cell_type": "code",
   "execution_count": 13,
   "metadata": {
    "scrolled": false
   },
   "outputs": [],
   "source": [
    "#根据以上模型评估结果分析最优主题数目"
   ]
  },
  {
   "cell_type": "code",
   "execution_count": 11,
   "metadata": {
    "scrolled": true
   },
   "outputs": [
    {
     "name": "stdout",
     "output_type": "stream",
     "text": [
      "topic0\n",
      "0.058*\"环境\" + 0.040*\"游玩\" + 0.032*\"景色\" + 0.025*\"性价比\" + 0.025*\"小时\" + 0.019*\"面积\" + 0.015*\"设施\" + 0.014*\"体验\" + 0.014*\"场景\" + 0.014*\"酒庄\"\n",
      "topic1\n",
      "0.034*\"历史\" + 0.028*\"故事\" + 0.028*\"文化\" + 0.027*\"酒窖\" + 0.027*\"葡萄酒\" + 0.025*\"孩子\" + 0.025*\"导游\" + 0.021*\"时间\" + 0.018*\"体验\" + 0.018*\"院落\"\n",
      "topic2\n",
      "0.033*\"物件\" + 0.025*\"建筑\" + 0.022*\"人们\" + 0.019*\"宅院\" + 0.019*\"房子\" + 0.018*\"家人\" + 0.011*\"花园\" + 0.011*\"参观\" + 0.010*\"父母\" + 0.010*\"国家\"\n",
      "topic3\n",
      "0.069*\"老人\" + 0.024*\"孩子\" + 0.022*\"很漂亮\" + 0.021*\"红酒\" + 0.020*\"导游\" + 0.018*\"想象\" + 0.017*\"服务态度\" + 0.017*\"门票\" + 0.017*\"购票\" + 0.014*\"开花\"\n",
      "topic4\n",
      "0.071*\"地主\" + 0.035*\"历史\" + 0.029*\"建筑\" + 0.024*\"故宫\" + 0.021*\"民间\" + 0.019*\"文化\" + 0.017*\"特点\" + 0.015*\"小时\" + 0.013*\"景色\" + 0.013*\"规模\"\n"
     ]
    }
   ],
   "source": [
    "#最优主题数目下的LDA主题模型\n",
    "n = 5\n",
    "lda = models.LdaModel(text_corpus,num_topics =n,id2word =text_dict ) # LDA模型训练  该最优主题数为32\n",
    "for i in range(n):\n",
    "    print('topic' + str(i))\n",
    "    print(lda.print_topic(i)) # 输出每个主题"
   ]
  },
  {
   "cell_type": "code",
   "execution_count": 12,
   "metadata": {
    "scrolled": true
   },
   "outputs": [
    {
     "name": "stderr",
     "output_type": "stream",
     "text": [
      "D:\\anaconda\\lib\\site-packages\\pyLDAvis\\_prepare.py:257: FutureWarning: Sorting because non-concatenation axis is not aligned. A future version\n",
      "of pandas will change to not sort by default.\n",
      "\n",
      "To accept the future behavior, pass 'sort=False'.\n",
      "\n",
      "To retain the current behavior and silence the warning, pass 'sort=True'.\n",
      "\n",
      "  return pd.concat([default_term_info] + list(topic_dfs))\n"
     ]
    },
    {
     "name": "stdout",
     "output_type": "stream",
     "text": [
      "\n",
      "Note: if you're in the IPython notebook, pyLDAvis.show() is not the best command\n",
      "      to use. Consider using pyLDAvis.display(), or pyLDAvis.enable_notebook().\n",
      "      See more information at http://pyLDAvis.github.io/quickstart.html .\n",
      "\n",
      "You must interrupt the kernel to end this command\n",
      "\n",
      "Serving to http://127.0.0.1:8889/    [Ctrl-C to exit]\n"
     ]
    },
    {
     "name": "stderr",
     "output_type": "stream",
     "text": [
      "127.0.0.1 - - [01/Jul/2020 15:32:06] \"GET / HTTP/1.1\" 200 -\n",
      "127.0.0.1 - - [01/Jul/2020 15:32:06] \"GET /LDAvis.css HTTP/1.1\" 200 -\n",
      "127.0.0.1 - - [01/Jul/2020 15:32:06] \"GET /d3.js HTTP/1.1\" 200 -\n",
      "127.0.0.1 - - [01/Jul/2020 15:32:06] \"GET /LDAvis.js HTTP/1.1\" 200 -\n",
      "127.0.0.1 - - [01/Jul/2020 15:32:06] code 404, message Not Found\n",
      "127.0.0.1 - - [01/Jul/2020 15:32:06] \"GET /favicon.ico HTTP/1.1\" 404 -\n"
     ]
    },
    {
     "name": "stdout",
     "output_type": "stream",
     "text": [
      "\n",
      "stopping Server...\n"
     ]
    }
   ],
   "source": [
    "#可视化模型，帮助理解主题\n",
    "vis_data = pyLDAvis.gensim.prepare(lda, text_corpus,text_dict)\n",
    "pyLDAvis.show(vis_data, open_browser=False)"
   ]
  },
  {
   "cell_type": "code",
   "execution_count": 16,
   "metadata": {},
   "outputs": [],
   "source": [
    "#得到每个文档（每评论文本）的主导主题\n",
    "def format_topics_sentences(ldamodel, corpus, texts):\n",
    "    # Init output\n",
    "    sent_topics_df = pd.DataFrame()\n",
    "\n",
    "    # Get main topic in each document\n",
    "    for i, row in enumerate(ldamodel[corpus]):\n",
    "        row = sorted(row, key=lambda x: (x[1]), reverse=True)\n",
    "        # Get the Dominant topic, Perc Contribution and Keywords for each document\n",
    "        for j, (topic_num, prop_topic) in enumerate(row):\n",
    "            if j == 0:  # => dominant topic\n",
    "                wp = ldamodel.show_topic(topic_num)\n",
    "                topic_keywords = \", \".join([word for word, prop in wp])\n",
    "                sent_topics_df = sent_topics_df.append(pd.Series([int(topic_num), round(prop_topic,4), topic_keywords]), ignore_index=True)\n",
    "            else:\n",
    "                break\n",
    "    sent_topics_df.columns = ['Dominant_Topic', 'Perc_Contribution', 'Topic_Keywords']\n",
    "\n",
    "    # Add original text to the end of the output\n",
    "    contents = pd.Series(texts)\n",
    "    sent_topics_df = pd.concat([sent_topics_df, contents], axis=1)\n",
    "    return(sent_topics_df)"
   ]
  },
  {
   "cell_type": "code",
   "execution_count": null,
   "metadata": {},
   "outputs": [],
   "source": []
  },
  {
   "cell_type": "code",
   "execution_count": 17,
   "metadata": {},
   "outputs": [
    {
     "data": {
      "text/html": [
       "<div>\n",
       "<style scoped>\n",
       "    .dataframe tbody tr th:only-of-type {\n",
       "        vertical-align: middle;\n",
       "    }\n",
       "\n",
       "    .dataframe tbody tr th {\n",
       "        vertical-align: top;\n",
       "    }\n",
       "\n",
       "    .dataframe thead th {\n",
       "        text-align: right;\n",
       "    }\n",
       "</style>\n",
       "<table border=\"1\" class=\"dataframe\">\n",
       "  <thead>\n",
       "    <tr style=\"text-align: right;\">\n",
       "      <th></th>\n",
       "      <th>Document_No</th>\n",
       "      <th>Dominant_Topic</th>\n",
       "      <th>Topic_Perc_Contrib</th>\n",
       "      <th>Keywords</th>\n",
       "      <th>Text</th>\n",
       "    </tr>\n",
       "  </thead>\n",
       "  <tbody>\n",
       "    <tr>\n",
       "      <th>0</th>\n",
       "      <td>0</td>\n",
       "      <td>1.0</td>\n",
       "      <td>0.5635</td>\n",
       "      <td>游玩, 历史, 小时, 建筑, 景色, 时期, 文化, 服务态度, 环境, 品酒</td>\n",
       "      <td>非常棒，如果去山西看大院或者民居，绝对不容错过，首先有规模，12万平方米，乔家一个院，常家两...</td>\n",
       "    </tr>\n",
       "    <tr>\n",
       "      <th>1</th>\n",
       "      <td>1</td>\n",
       "      <td>3.0</td>\n",
       "      <td>0.9177</td>\n",
       "      <td>酒窖, 古树, 红酒, 葡萄酒, 建筑, 酒庄, 风景, 意义, 机会, 参观</td>\n",
       "      <td>晋中最好玩最值得一去的地方啦。交通便利，市内公车一小时直达。庄园很大很美丽，多部影视剧的取景...</td>\n",
       "    </tr>\n",
       "    <tr>\n",
       "      <th>2</th>\n",
       "      <td>2</td>\n",
       "      <td>2.0</td>\n",
       "      <td>0.9008</td>\n",
       "      <td>地主, 故宫, 民间, 历史, 文化, 建筑, 小时, 地主家, 风情, 大院</td>\n",
       "      <td>乔家大院、王家大院、常家庄园相比，感觉常家庄园最好，王家大院次之，乔家大院相比之下根本不值一...</td>\n",
       "    </tr>\n",
       "    <tr>\n",
       "      <th>3</th>\n",
       "      <td>3</td>\n",
       "      <td>1.0</td>\n",
       "      <td>0.5566</td>\n",
       "      <td>游玩, 历史, 小时, 建筑, 景色, 时期, 文化, 服务态度, 环境, 品酒</td>\n",
       "      <td>这个景点不适合冬天去游览的，我们2月初从太原站对面坐901到榆次老城再转12才到常家庄园的，...</td>\n",
       "    </tr>\n",
       "    <tr>\n",
       "      <th>4</th>\n",
       "      <td>4</td>\n",
       "      <td>0.0</td>\n",
       "      <td>0.5899</td>\n",
       "      <td>环境, 规模, 宅院, 很漂亮, 景色, 气派, 整体, 家风, 古色古香, 花园</td>\n",
       "      <td>很不错，值得一去，儒家思想，比乔家大院有思想，后花园也不错，景色宜人，流连忘返啊，是许多电影...</td>\n",
       "    </tr>\n",
       "    <tr>\n",
       "      <th>5</th>\n",
       "      <td>5</td>\n",
       "      <td>3.0</td>\n",
       "      <td>0.7288</td>\n",
       "      <td>酒窖, 古树, 红酒, 葡萄酒, 建筑, 酒庄, 风景, 意义, 机会, 参观</td>\n",
       "      <td>常家庄园中国儒商第一家，园林建筑于一体，真的是非常大气，晋商大院里面最喜欢的就是常家庄园，文...</td>\n",
       "    </tr>\n",
       "    <tr>\n",
       "      <th>6</th>\n",
       "      <td>6</td>\n",
       "      <td>3.0</td>\n",
       "      <td>0.8297</td>\n",
       "      <td>酒窖, 古树, 红酒, 葡萄酒, 建筑, 酒庄, 风景, 意义, 机会, 参观</td>\n",
       "      <td>晋商创业精神值得学习，后花园杏园很大，儒商，值得一去。导游小姑娘讲解的也不错，门口常家家宴价...</td>\n",
       "    </tr>\n",
       "    <tr>\n",
       "      <th>7</th>\n",
       "      <td>7</td>\n",
       "      <td>2.0</td>\n",
       "      <td>0.6988</td>\n",
       "      <td>地主, 故宫, 民间, 历史, 文化, 建筑, 小时, 地主家, 风情, 大院</td>\n",
       "      <td>常家庄园位于榆次，要是从太原出发的话，可以先坐公交车901路到达榆次老城终点站，3元，一个半...</td>\n",
       "    </tr>\n",
       "    <tr>\n",
       "      <th>8</th>\n",
       "      <td>8</td>\n",
       "      <td>2.0</td>\n",
       "      <td>0.9259</td>\n",
       "      <td>地主, 故宫, 民间, 历史, 文化, 建筑, 小时, 地主家, 风情, 大院</td>\n",
       "      <td>正月十一去的，人少，很清静。细细的品味常家的家庭教育，体味晋商的深厚文化底蕴。建筑的砖雕、木...</td>\n",
       "    </tr>\n",
       "    <tr>\n",
       "      <th>9</th>\n",
       "      <td>9</td>\n",
       "      <td>0.0</td>\n",
       "      <td>0.8842</td>\n",
       "      <td>环境, 规模, 宅院, 很漂亮, 景色, 气派, 整体, 家风, 古色古香, 花园</td>\n",
       "      <td>今天去的，感觉建筑大气磅礴，很壮观，值得大家去看一看，可想当时主人的财富！可以想而知当时的晋...</td>\n",
       "    </tr>\n",
       "  </tbody>\n",
       "</table>\n",
       "</div>"
      ],
      "text/plain": [
       "   Document_No  Dominant_Topic  Topic_Perc_Contrib  \\\n",
       "0            0             1.0              0.5635   \n",
       "1            1             3.0              0.9177   \n",
       "2            2             2.0              0.9008   \n",
       "3            3             1.0              0.5566   \n",
       "4            4             0.0              0.5899   \n",
       "5            5             3.0              0.7288   \n",
       "6            6             3.0              0.8297   \n",
       "7            7             2.0              0.6988   \n",
       "8            8             2.0              0.9259   \n",
       "9            9             0.0              0.8842   \n",
       "\n",
       "                                    Keywords  \\\n",
       "0   游玩, 历史, 小时, 建筑, 景色, 时期, 文化, 服务态度, 环境, 品酒   \n",
       "1    酒窖, 古树, 红酒, 葡萄酒, 建筑, 酒庄, 风景, 意义, 机会, 参观   \n",
       "2    地主, 故宫, 民间, 历史, 文化, 建筑, 小时, 地主家, 风情, 大院   \n",
       "3   游玩, 历史, 小时, 建筑, 景色, 时期, 文化, 服务态度, 环境, 品酒   \n",
       "4  环境, 规模, 宅院, 很漂亮, 景色, 气派, 整体, 家风, 古色古香, 花园   \n",
       "5    酒窖, 古树, 红酒, 葡萄酒, 建筑, 酒庄, 风景, 意义, 机会, 参观   \n",
       "6    酒窖, 古树, 红酒, 葡萄酒, 建筑, 酒庄, 风景, 意义, 机会, 参观   \n",
       "7    地主, 故宫, 民间, 历史, 文化, 建筑, 小时, 地主家, 风情, 大院   \n",
       "8    地主, 故宫, 民间, 历史, 文化, 建筑, 小时, 地主家, 风情, 大院   \n",
       "9  环境, 规模, 宅院, 很漂亮, 景色, 气派, 整体, 家风, 古色古香, 花园   \n",
       "\n",
       "                                                Text  \n",
       "0  非常棒，如果去山西看大院或者民居，绝对不容错过，首先有规模，12万平方米，乔家一个院，常家两...  \n",
       "1  晋中最好玩最值得一去的地方啦。交通便利，市内公车一小时直达。庄园很大很美丽，多部影视剧的取景...  \n",
       "2  乔家大院、王家大院、常家庄园相比，感觉常家庄园最好，王家大院次之，乔家大院相比之下根本不值一...  \n",
       "3  这个景点不适合冬天去游览的，我们2月初从太原站对面坐901到榆次老城再转12才到常家庄园的，...  \n",
       "4  很不错，值得一去，儒家思想，比乔家大院有思想，后花园也不错，景色宜人，流连忘返啊，是许多电影...  \n",
       "5  常家庄园中国儒商第一家，园林建筑于一体，真的是非常大气，晋商大院里面最喜欢的就是常家庄园，文...  \n",
       "6  晋商创业精神值得学习，后花园杏园很大，儒商，值得一去。导游小姑娘讲解的也不错，门口常家家宴价...  \n",
       "7  常家庄园位于榆次，要是从太原出发的话，可以先坐公交车901路到达榆次老城终点站，3元，一个半...  \n",
       "8  正月十一去的，人少，很清静。细细的品味常家的家庭教育，体味晋商的深厚文化底蕴。建筑的砖雕、木...  \n",
       "9  今天去的，感觉建筑大气磅礴，很壮观，值得大家去看一看，可想当时主人的财富！可以想而知当时的晋...  "
      ]
     },
     "execution_count": 17,
     "metadata": {},
     "output_type": "execute_result"
    }
   ],
   "source": [
    "#文档中贡献百分比最高的主题\n",
    "df_topic_sents_keywords = format_topics_sentences(ldamodel=lda, corpus=text_corpus, texts=data)# Format\n",
    "df_dominant_topic = df_topic_sents_keywords.reset_index()\n",
    "df_dominant_topic.columns = ['Document_No', 'Dominant_Topic', 'Topic_Perc_Contrib', 'Keywords', 'Text']# Show\n",
    "df_dominant_topic.head(10)\n",
    "#df_dominant_topic['Dominant_Topic'].value_counts().plot(kind='bar')"
   ]
  },
  {
   "cell_type": "code",
   "execution_count": 18,
   "metadata": {},
   "outputs": [
    {
     "data": {
      "text/plain": [
       "4081"
      ]
     },
     "execution_count": 18,
     "metadata": {},
     "output_type": "execute_result"
    }
   ],
   "source": [
    "len(df_dominant_topic)"
   ]
  },
  {
   "cell_type": "markdown",
   "metadata": {},
   "source": [
    "# 通过可视化模型以及每个主题的主导文档手动合并几个主题，然后再进行下一步（情感分析）"
   ]
  },
  {
   "cell_type": "code",
   "execution_count": null,
   "metadata": {},
   "outputs": [],
   "source": []
  },
  {
   "cell_type": "code",
   "execution_count": null,
   "metadata": {},
   "outputs": [],
   "source": []
  },
  {
   "cell_type": "code",
   "execution_count": null,
   "metadata": {},
   "outputs": [],
   "source": []
  },
  {
   "cell_type": "code",
   "execution_count": null,
   "metadata": {},
   "outputs": [],
   "source": []
  },
  {
   "cell_type": "code",
   "execution_count": null,
   "metadata": {},
   "outputs": [],
   "source": []
  },
  {
   "cell_type": "code",
   "execution_count": null,
   "metadata": {},
   "outputs": [],
   "source": []
  },
  {
   "cell_type": "code",
   "execution_count": null,
   "metadata": {
    "scrolled": true
   },
   "outputs": [],
   "source": []
  },
  {
   "cell_type": "code",
   "execution_count": null,
   "metadata": {},
   "outputs": [],
   "source": []
  },
  {
   "cell_type": "code",
   "execution_count": 34,
   "metadata": {
    "scrolled": true
   },
   "outputs": [
    {
     "name": "stderr",
     "output_type": "stream",
     "text": [
      "D:\\anaconda\\lib\\site-packages\\ipykernel_launcher.py:2: SettingWithCopyWarning: \n",
      "A value is trying to be set on a copy of a slice from a DataFrame\n",
      "\n",
      "See the caveats in the documentation: http://pandas.pydata.org/pandas-docs/stable/indexing.html#indexing-view-versus-copy\n",
      "  \n",
      "D:\\anaconda\\lib\\site-packages\\ipykernel_launcher.py:3: SettingWithCopyWarning: \n",
      "A value is trying to be set on a copy of a slice from a DataFrame\n",
      "\n",
      "See the caveats in the documentation: http://pandas.pydata.org/pandas-docs/stable/indexing.html#indexing-view-versus-copy\n",
      "  This is separate from the ipykernel package so we can avoid doing imports until\n",
      "D:\\anaconda\\lib\\site-packages\\ipykernel_launcher.py:4: SettingWithCopyWarning: \n",
      "A value is trying to be set on a copy of a slice from a DataFrame\n",
      "\n",
      "See the caveats in the documentation: http://pandas.pydata.org/pandas-docs/stable/indexing.html#indexing-view-versus-copy\n",
      "  after removing the cwd from sys.path.\n",
      "D:\\anaconda\\lib\\site-packages\\ipykernel_launcher.py:5: SettingWithCopyWarning: \n",
      "A value is trying to be set on a copy of a slice from a DataFrame\n",
      "\n",
      "See the caveats in the documentation: http://pandas.pydata.org/pandas-docs/stable/indexing.html#indexing-view-versus-copy\n",
      "  \"\"\"\n"
     ]
    }
   ],
   "source": [
    "df_dominant_topic['Topic'] = None\n",
    "df_dominant_topic.Topic[df_dominant_topic.Dominant_Topic.isin([3])] = '特色产业'\n",
    "df_dominant_topic.Topic[df_dominant_topic.Dominant_Topic.isin([2])] = '特色历史文化'\n",
    "df_dominant_topic.Topic[df_dominant_topic.Dominant_Topic.isin([4,1])] = '游玩感受'\n",
    "df_dominant_topic.Topic[df_dominant_topic.Dominant_Topic.isin([0])] = '特色环境风景'\n",
    "df_dominant_topic.fillna('others',inplace = True)"
   ]
  },
  {
   "cell_type": "code",
   "execution_count": 35,
   "metadata": {
    "scrolled": true
   },
   "outputs": [
    {
     "data": {
      "text/plain": [
       "<matplotlib.axes._subplots.AxesSubplot at 0x1cdc3ce22e8>"
      ]
     },
     "execution_count": 35,
     "metadata": {},
     "output_type": "execute_result"
    },
    {
     "data": {
      "image/png": "[encoded data removed]",
      "text/plain": [
       "<Figure size 432x288 with 1 Axes>"
      ]
     },
     "metadata": {
      "needs_background": "light"
     },
     "output_type": "display_data"
    }
   ],
   "source": [
    "mpl.rcParams['font.sans-serif'] = ['Microsoft YaHei'] \n",
    "sns.countplot(df_dominant_topic['Topic'])"
   ]
  },
  {
   "cell_type": "code",
   "execution_count": null,
   "metadata": {},
   "outputs": [],
   "source": []
  },
  {
   "cell_type": "markdown",
   "metadata": {},
   "source": [
    "#  情感分析"
   ]
  },
  {
   "cell_type": "code",
   "execution_count": 36,
   "metadata": {},
   "outputs": [],
   "source": [
    "Attitude = []    \n",
    "for i, v in df_dominant_topic['Text'].iteritems():\n",
    "    s = SnowNLP(v)\n",
    "    Attitude.append(s.sentiments)\n",
    "df_dominant_topic['Attitude'] = Attitude"
   ]
  },
  {
   "cell_type": "code",
   "execution_count": 37,
   "metadata": {},
   "outputs": [
    {
     "data": {
      "text/plain": [
       "<matplotlib.axes._subplots.AxesSubplot at 0x1cdc3e7ad30>"
      ]
     },
     "execution_count": 37,
     "metadata": {},
     "output_type": "execute_result"
    },
    {
     "data": {
      "image/png": "[encoded data removed]",
      "text/plain": [
       "<Figure size 432x288 with 1 Axes>"
      ]
     },
     "metadata": {
      "needs_background": "light"
     },
     "output_type": "display_data"
    }
   ],
   "source": [
    "#所有主题的情感倾向分布情况\n",
    "sns.distplot(df_dominant_topic['Attitude'],kde = False)"
   ]
  },
  {
   "cell_type": "code",
   "execution_count": 49,
   "metadata": {},
   "outputs": [
    {
     "data": {
      "text/plain": [
       "<matplotlib.axes._subplots.AxesSubplot at 0x1cdc41a0cc0>"
      ]
     },
     "execution_count": 49,
     "metadata": {},
     "output_type": "execute_result"
    },
    {
     "data": {
      "image/png": "[encoded data removed]",
      "text/plain": [
       "<Figure size 432x288 with 1 Axes>"
      ]
     },
     "metadata": {
      "needs_background": "light"
     },
     "output_type": "display_data"
    }
   ],
   "source": [
    "#某个主题的情感倾向分布情况-自然风景\n",
    "sns.distplot(df_dominant_topic[df_dominant_topic['Topic']=='特色产业']['Attitude'],kde = False)# 主题35的情感倾向"
   ]
  },
  {
   "cell_type": "code",
   "execution_count": 50,
   "metadata": {
    "scrolled": true
   },
   "outputs": [
    {
     "data": {
      "text/plain": [
       "<matplotlib.axes._subplots.AxesSubplot at 0x1cdc4133668>"
      ]
     },
     "execution_count": 50,
     "metadata": {},
     "output_type": "execute_result"
    },
    {
     "data": {
      "image/png": "[encoded data removed]",
      "text/plain": [
       "<Figure size 432x288 with 1 Axes>"
      ]
     },
     "metadata": {
      "needs_background": "light"
     },
     "output_type": "display_data"
    }
   ],
   "source": [
    "#某个主题的情感倾向分布情况-人文环境\n",
    "sns.distplot(df_dominant_topic[df_dominant_topic['Topic']=='特色历史文化']['Attitude'],kde = False)# 主题35的情感倾向"
   ]
  },
  {
   "cell_type": "code",
   "execution_count": 51,
   "metadata": {
    "scrolled": true
   },
   "outputs": [
    {
     "data": {
      "text/plain": [
       "<matplotlib.axes._subplots.AxesSubplot at 0x1cdc4346198>"
      ]
     },
     "execution_count": 51,
     "metadata": {},
     "output_type": "execute_result"
    },
    {
     "data": {
      "image/png": "[encoded data removed]",
      "text/plain": [
       "<Figure size 432x288 with 1 Axes>"
      ]
     },
     "metadata": {
      "needs_background": "light"
     },
     "output_type": "display_data"
    }
   ],
   "source": [
    "#某个主题的情感倾向分布情况-用户体验\n",
    "sns.distplot(df_dominant_topic[df_dominant_topic['Topic']=='游玩感受']['Attitude'],kde = False)# 主题35的情感倾向"
   ]
  },
  {
   "cell_type": "code",
   "execution_count": 52,
   "metadata": {},
   "outputs": [
    {
     "data": {
      "text/plain": [
       "<matplotlib.axes._subplots.AxesSubplot at 0x1cdc4415e80>"
      ]
     },
     "execution_count": 52,
     "metadata": {},
     "output_type": "execute_result"
    },
    {
     "data": {
      "image/png": "[encoded data removed]",
      "text/plain": [
       "<Figure size 432x288 with 1 Axes>"
      ]
     },
     "metadata": {
      "needs_background": "light"
     },
     "output_type": "display_data"
    }
   ],
   "source": [
    "#某个主题的情感倾向分布情况-民俗文化\n",
    "sns.distplot(df_dominant_topic[df_dominant_topic['Topic']=='特色环境风景']['Attitude'],kde = False)# 主题35的情感倾向"
   ]
  },
  {
   "cell_type": "markdown",
   "metadata": {},
   "source": [
    "# 统计分析"
   ]
  },
  {
   "cell_type": "code",
   "execution_count": 42,
   "metadata": {},
   "outputs": [],
   "source": [
    "df_gender_fans_sta = pd.merge(df,df_dominant_topic,left_on='text',right_on='Text',how='inner')[['gender','粉丝','text','Topic']]"
   ]
  },
  {
   "cell_type": "code",
   "execution_count": 43,
   "metadata": {},
   "outputs": [],
   "source": [
    "df_gender_fans_sta.dropna(inplace = True)"
   ]
  },
  {
   "cell_type": "code",
   "execution_count": 44,
   "metadata": {},
   "outputs": [
    {
     "data": {
      "text/html": [
       "<div>\n",
       "<style scoped>\n",
       "    .dataframe tbody tr th:only-of-type {\n",
       "        vertical-align: middle;\n",
       "    }\n",
       "\n",
       "    .dataframe tbody tr th {\n",
       "        vertical-align: top;\n",
       "    }\n",
       "\n",
       "    .dataframe thead tr th {\n",
       "        text-align: left;\n",
       "    }\n",
       "</style>\n",
       "<table border=\"1\" class=\"dataframe\">\n",
       "  <thead>\n",
       "    <tr>\n",
       "      <th>Topic</th>\n",
       "      <th colspan=\"2\" halign=\"left\">游玩感受</th>\n",
       "      <th colspan=\"2\" halign=\"left\">特色产业</th>\n",
       "      <th colspan=\"2\" halign=\"left\">特色历史文化</th>\n",
       "      <th colspan=\"2\" halign=\"left\">特色环境风景</th>\n",
       "    </tr>\n",
       "    <tr>\n",
       "      <th>gender</th>\n",
       "      <th>female</th>\n",
       "      <th>male</th>\n",
       "      <th>female</th>\n",
       "      <th>male</th>\n",
       "      <th>female</th>\n",
       "      <th>male</th>\n",
       "      <th>female</th>\n",
       "      <th>male</th>\n",
       "    </tr>\n",
       "  </thead>\n",
       "  <tbody>\n",
       "    <tr>\n",
       "      <th>粉丝</th>\n",
       "      <td>855</td>\n",
       "      <td>755</td>\n",
       "      <td>550</td>\n",
       "      <td>520</td>\n",
       "      <td>409</td>\n",
       "      <td>404</td>\n",
       "      <td>472</td>\n",
       "      <td>538</td>\n",
       "    </tr>\n",
       "    <tr>\n",
       "      <th>text</th>\n",
       "      <td>855</td>\n",
       "      <td>755</td>\n",
       "      <td>550</td>\n",
       "      <td>520</td>\n",
       "      <td>409</td>\n",
       "      <td>404</td>\n",
       "      <td>472</td>\n",
       "      <td>538</td>\n",
       "    </tr>\n",
       "  </tbody>\n",
       "</table>\n",
       "</div>"
      ],
      "text/plain": [
       "Topic    游玩感受        特色产业      特色历史文化      特色环境风景     \n",
       "gender female male female male female male female male\n",
       "粉丝        855  755    550  520    409  404    472  538\n",
       "text      855  755    550  520    409  404    472  538"
      ]
     },
     "execution_count": 44,
     "metadata": {},
     "output_type": "execute_result"
    }
   ],
   "source": [
    "df_gender_fans_sta.groupby(['Topic','gender']).count().T"
   ]
  },
  {
   "cell_type": "code",
   "execution_count": 45,
   "metadata": {},
   "outputs": [],
   "source": [
    "index = df_gender_fans_sta['Topic'].value_counts(normalize = True, dropna = False).index\n",
    "statistics = df_gender_fans_sta.groupby(['Topic','gender']).text.count().T.values.tolist()\n",
    "\n",
    "female_count = df_gender_fans_sta[ df_gender_fans_sta['gender']=='female'].shape[0]   #男游客评论人数\n",
    "male_count = df_gender_fans_sta[ df_gender_fans_sta['gender']=='male'].shape[0]       #女游客评论人数\n",
    "\n",
    "a,b = [],[]\n",
    "for i in range(len(statistics)):                                                      #标准化\n",
    "    if i%2 ==0:\n",
    "        a.append(statistics[i]/female_count)\n",
    "    else:\n",
    "        b.append(statistics[i]/male_count)\n",
    "for i in range(len(a)):\n",
    "    a[i],b[i] = a[i]/(a[i]+b[i]),b[i]/(a[i]+b[i])"
   ]
  },
  {
   "cell_type": "code",
   "execution_count": 46,
   "metadata": {},
   "outputs": [
    {
     "data": {
      "image/png": "[encoded data removed]",
      "text/plain": [
       "<Figure size 432x288 with 1 Axes>"
      ]
     },
     "metadata": {
      "needs_background": "light"
     },
     "output_type": "display_data"
    }
   ],
   "source": [
    "plt.bar(index, a, width=0.4, label='female')\n",
    "plt.bar(index, b, width=0.4, bottom=a, label= 'male')\n",
    "plt.axhline(y = 0.5,ls ='--')\n",
    "plt.legend()\n",
    "plt.show()"
   ]
  },
  {
   "cell_type": "code",
   "execution_count": 47,
   "metadata": {},
   "outputs": [
    {
     "data": {
      "text/plain": [
       "Topic\n",
       "游玩感受      66\n",
       "特色产业      59\n",
       "特色历史文化    35\n",
       "特色环境风景    24\n",
       "Name: text, dtype: int64"
      ]
     },
     "execution_count": 47,
     "metadata": {},
     "output_type": "execute_result"
    }
   ],
   "source": [
    "fans_sta = df_gender_fans_sta[df_gender_fans_sta['粉丝']>500].groupby('Topic').text.count()\n",
    "fans_sta"
   ]
  },
  {
   "cell_type": "code",
   "execution_count": 48,
   "metadata": {},
   "outputs": [
    {
     "data": {
      "text/plain": [
       "<BarContainer object of 4 artists>"
      ]
     },
     "execution_count": 48,
     "metadata": {},
     "output_type": "execute_result"
    },
    {
     "data": {
      "image/png": "[encoded data removed]",
      "text/plain": [
       "<Figure size 432x288 with 1 Axes>"
      ]
     },
     "metadata": {
      "needs_background": "light"
     },
     "output_type": "display_data"
    }
   ],
   "source": [
    "plt.bar(fans_sta.index,fans_sta.tolist())"
   ]
  },
  {
   "cell_type": "code",
   "execution_count": null,
   "metadata": {},
   "outputs": [],
   "source": []
  },
  {
   "cell_type": "code",
   "execution_count": null,
   "metadata": {},
   "outputs": [],
   "source": []
  },
  {
   "cell_type": "code",
   "execution_count": null,
   "metadata": {},
   "outputs": [],
   "source": []
  },
  {
   "cell_type": "code",
   "execution_count": null,
   "metadata": {},
   "outputs": [],
   "source": []
  },
  {
   "cell_type": "code",
   "execution_count": 16,
   "metadata": {},
   "outputs": [
    {
     "data": {
      "text/plain": [
       "0.19188686736463656"
      ]
     },
     "execution_count": 16,
     "metadata": {},
     "output_type": "execute_result"
    }
   ],
   "source": [
    "s = SnowNLP(\"我的心情很糟糕啊，不建议去\")\n",
    "s.sentiments"
   ]
  },
  {
   "cell_type": "code",
   "execution_count": null,
   "metadata": {},
   "outputs": [],
   "source": []
  },
  {
   "cell_type": "code",
   "execution_count": null,
   "metadata": {},
   "outputs": [],
   "source": []
  },
  {
   "cell_type": "code",
   "execution_count": null,
   "metadata": {},
   "outputs": [],
   "source": []
  },
  {
   "cell_type": "code",
   "execution_count": 44,
   "metadata": {},
   "outputs": [],
   "source": [
    "#找到给定主题最有贡献的文档，并通过阅读该文档来推断该主题\n",
    "#sent_topics_sorteddf_mallet = pd.DataFrame()\n",
    "\n",
    "#sent_topics_outdf_grpd = df_topic_sents_keywords.groupby('Dominant_Topic')\n",
    "\n",
    "#for i, grp in sent_topics_outdf_grpd:\n",
    "#    sent_topics_sorteddf_mallet = pd.concat([sent_topics_sorteddf_mallet, grp.sort_values(['Perc_Contribution'], ascending=[0]).head(1)],  axis=0)# Reset Index\n",
    "#sent_topics_sorteddf_mallet.reset_index(drop=True, inplace=True)# Format\n",
    "#sent_topics_sorteddf_mallet.columns = ['Topic_Num', \"Topic_Perc_Contrib\", \"Keywords\", \"Text\"]# Show\n",
    "#sent_topics_sorteddf_mallet"
   ]
  },
  {
   "cell_type": "code",
   "execution_count": 45,
   "metadata": {},
   "outputs": [],
   "source": [
    "#主题的数量和分布\n",
    "#topic_counts = df_topic_sents_keywords['Dominant_Topic'].value_counts()# Percentage of Documents for Each Topic\n",
    "#topic_contribution = round(topic_counts/topic_counts.sum(), 4)# Topic Number and Keywords\n",
    "#topic_num_keywords = df_topic_sents_keywords[['Dominant_Topic', 'Topic_Keywords']]# Concatenate Column wise\n",
    "#df_dominant_topics = pd.concat([topic_num_keywords, topic_counts, topic_contribution], axis=1)# Change Column names\n",
    "#df_dominant_topics.columns = ['Dominant_Topic', 'Topic_Keywords', 'Num_Documents', 'Perc_Documents']# Show\n",
    "#df_dominant_topics"
   ]
  },
  {
   "cell_type": "code",
   "execution_count": null,
   "metadata": {},
   "outputs": [],
   "source": []
  },
  {
   "cell_type": "code",
   "execution_count": null,
   "metadata": {},
   "outputs": [],
   "source": []
  },
  {
   "cell_type": "code",
   "execution_count": null,
   "metadata": {},
   "outputs": [],
   "source": []
  },
  {
   "cell_type": "code",
   "execution_count": null,
   "metadata": {},
   "outputs": [],
   "source": []
  },
  {
   "cell_type": "code",
   "execution_count": null,
   "metadata": {},
   "outputs": [],
   "source": []
  },
  {
   "cell_type": "code",
   "execution_count": null,
   "metadata": {},
   "outputs": [],
   "source": []
  },
  {
   "cell_type": "code",
   "execution_count": null,
   "metadata": {},
   "outputs": [],
   "source": []
  },
  {
   "cell_type": "code",
   "execution_count": null,
   "metadata": {},
   "outputs": [],
   "source": []
  }
 ],
 "metadata": {
  "kernelspec": {
   "display_name": "Python 3",
   "language": "python",
   "name": "python3"
  },
  "language_info": {
   "codemirror_mode": {
    "name": "ipython",
    "version": 3
   },
   "file_extension": ".py",
   "mimetype": "text/x-python",
   "name": "python",
   "nbconvert_exporter": "python",
   "pygments_lexer": "ipython3",
   "version": "3.7.3"
  }
 },
 "nbformat": 4,
 "nbformat_minor": 2
}
