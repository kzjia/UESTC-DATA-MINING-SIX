{
 "cells": [
  {
   "cell_type": "code",
   "execution_count": 2,
   "metadata": {},
   "outputs": [],
   "source": [
    "#导入相关包\n",
    "import pandas as pd\n",
    "import numpy as np\n",
    "from snownlp import SnowNLP #情感分析\n",
    "import jieba\n",
    "import pyLDAvis.gensim       #LDA可视化\n",
    "import wordcloud             #词云\n",
    "import os, codecs\n",
    "import seaborn as sns\n",
    "from pylab import mpl\n",
    "import jieba.posseg as pseg\n",
    "import matplotlib.pyplot as plt\n",
    "from collections import Counter\n",
    "from gensim import corpora,models"
   ]
  },
  {
   "cell_type": "markdown",
   "metadata": {},
   "source": [
    "# 预处理"
   ]
  },
  {
   "cell_type": "code",
   "execution_count": 3,
   "metadata": {},
   "outputs": [],
   "source": [
    "#导入数据\n",
    "df=pd.read_csv('F:\\民俗古镇1.csv')\n",
    "df1= df['text']\n",
    "#df1.head()"
   ]
  },
  {
   "cell_type": "code",
   "execution_count": 4,
   "metadata": {},
   "outputs": [
    {
     "data": {
      "text/plain": [
       "False    3927\n",
       "True       23\n",
       "Name: text, dtype: int64"
      ]
     },
     "execution_count": 4,
     "metadata": {},
     "output_type": "execute_result"
    }
   ],
   "source": [
    "#查询重复值\n",
    "df1.duplicated().value_counts() "
   ]
  },
  {
   "cell_type": "code",
   "execution_count": 5,
   "metadata": {},
   "outputs": [
    {
     "data": {
      "text/plain": [
       "False    3927\n",
       "Name: text, dtype: int64"
      ]
     },
     "execution_count": 5,
     "metadata": {},
     "output_type": "execute_result"
    }
   ],
   "source": [
    "#处理重复值\n",
    "df2= df1.drop_duplicates()\n",
    "df2.duplicated().value_counts()"
   ]
  },
  {
   "cell_type": "code",
   "execution_count": 6,
   "metadata": {},
   "outputs": [],
   "source": [
    "#去除短句，保留长度大于5的数据\n",
    "df3 = df2[df2.str.len()>5]\n",
    "df3 = df3.reset_index(drop=True)\n",
    "data = df3.tolist()            #list形式"
   ]
  },
  {
   "cell_type": "code",
   "execution_count": 7,
   "metadata": {
    "scrolled": false
   },
   "outputs": [
    {
     "data": {
      "text/plain": [
       "0    西江千户苗寨的住所建筑有很大的少数民族风貌 依山而建 （新建的）可以租套苗衣 （头饰 挂的饰...\n",
       "1    馆内珍藏有1220余件苗族文物和350余张有代表性的图片、画像、书籍，从苗族历史、生产、生活...\n",
       "2    去西江千户苗寨必定要去看看这个博物馆，位于寨子中心区，无需门票。馆内珍藏有1220余件苗族文...\n",
       "3    含在西江苗寨的门票里向游客展示了苗族的主要生活形态祭祀节日苗寨的建筑风格苗药的各种药材苗族的...\n",
       "4    苗寨要住一晚上才会看到夜景，如果仅仅白天意思不是太大。还是建议大家旅游不能赶，要慢慢体验。酸...\n",
       "Name: text, dtype: object"
      ]
     },
     "execution_count": 7,
     "metadata": {},
     "output_type": "execute_result"
    }
   ],
   "source": [
    "df3.head()"
   ]
  },
  {
   "cell_type": "markdown",
   "metadata": {},
   "source": [
    "# 分词"
   ]
  },
  {
   "cell_type": "code",
   "execution_count": 8,
   "metadata": {},
   "outputs": [
    {
     "name": "stderr",
     "output_type": "stream",
     "text": [
      "<>:6: DeprecationWarning: invalid escape sequence \\s\n",
      "<>:6: DeprecationWarning: invalid escape sequence \\s\n",
      "<>:6: DeprecationWarning: invalid escape sequence \\s\n",
      "<ipython-input-8-4c5bede52888>:6: DeprecationWarning: invalid escape sequence \\s\n",
      "  f_stop = open('E:\\课程相关\\大三下\\综合课程设计\\stopWord.txt','r',encoding='UTF-8')\n"
     ]
    }
   ],
   "source": [
    "def load_stopword():\n",
    "    '''\n",
    "    加载停用词表\n",
    "    :return: 返回停用词的列表\n",
    "    '''\n",
    "    f_stop = open('E:\\课程相关\\大三下\\综合课程设计\\stopWord.txt','r',encoding='UTF-8')\n",
    "    sw = [line.strip() for line in f_stop]\n",
    "    f_stop.close()\n",
    "    sw.append('\\n')\n",
    "    return sw"
   ]
  },
  {
   "cell_type": "code",
   "execution_count": 10,
   "metadata": {},
   "outputs": [
    {
     "name": "stderr",
     "output_type": "stream",
     "text": [
      "<>:2: DeprecationWarning: invalid escape sequence \\d\n",
      "<>:2: DeprecationWarning: invalid escape sequence \\d\n",
      "<>:2: DeprecationWarning: invalid escape sequence \\d\n",
      "<ipython-input-10-c28050539b20>:2: DeprecationWarning: invalid escape sequence \\d\n",
      "  jieba.load_userdict(\"E:\\课程相关\\大三下\\综合课程设计\\dict.txt\")  #自定义字典\n"
     ]
    },
    {
     "name": "stdout",
     "output_type": "stream",
     "text": [
      "词频度统计结果\n",
      "门票:504\n",
      "特色:384\n",
      "博物馆:377\n",
      "建筑:365\n",
      "文化:347\n",
      "景色:311\n",
      "历史:293\n",
      "风景:266\n",
      "时间:248\n",
      "游客:234\n"
     ]
    }
   ],
   "source": [
    "stopwords = load_stopword()  #加载停用词表\n",
    "jieba.load_userdict(\"E:\\课程相关\\大三下\\综合课程设计\\dict.txt\")  #自定义字典\n",
    "text_list = []\n",
    "cloud_text = ''\n",
    "c = Counter()\n",
    "for i in range(len(df3)):\n",
    "    seg_list = jieba.posseg.cut(df3[i])\n",
    "    mytext_list=[]\n",
    "    for x in seg_list:\n",
    "        if len(x.word)>1 and x.word != '\\r\\n' and x.word not in stopwords and x.flag =='n':   #x.flag =='n'表示只保留名词\n",
    "            c[x.word] += 1\n",
    "            mytext_list.append(x.word.replace(\" \",\"\"))\n",
    "    text_list.append(mytext_list)      \n",
    "    cloud_text+=\",\".join(mytext_list)  #绘制词云\n",
    "print('词频度统计结果')\n",
    "for (k,v) in c.most_common(10):\n",
    "    print('{}:{}'.format(k,v))"
   ]
  },
  {
   "cell_type": "code",
   "execution_count": 11,
   "metadata": {},
   "outputs": [
    {
     "data": {
      "image/png": "[encoded data removed]",
      "text/plain": [
       "<Figure size 432x288 with 1 Axes>"
      ]
     },
     "metadata": {
      "needs_background": "light"
     },
     "output_type": "display_data"
    }
   ],
   "source": [
    "#创建词云\n",
    "font = \"C:\\\\Windows\\\\Fonts\\\\HGZY_CNKI.TTF\"#词云的中文字体所在路径\n",
    "wc = wordcloud.WordCloud(\n",
    "    scale = 7,\n",
    "    background_color=\"white\", #背景颜色\n",
    "    #max_words=200, #显示最大词数\n",
    "    font_path=font,\n",
    "    min_font_size=15,\n",
    "    max_font_size=50, \n",
    "    width=400  #图幅宽度\n",
    "    )\n",
    "wc.generate(cloud_text)\n",
    "\n",
    "plt.imshow(wc)\n",
    "plt.axis(\"off\")\n",
    "plt.show()"
   ]
  },
  {
   "cell_type": "code",
   "execution_count": null,
   "metadata": {
    "scrolled": true
   },
   "outputs": [],
   "source": []
  },
  {
   "cell_type": "markdown",
   "metadata": {},
   "source": [
    "# LDA主题分析"
   ]
  },
  {
   "cell_type": "code",
   "execution_count": 12,
   "metadata": {},
   "outputs": [],
   "source": [
    "# 主题分析\n",
    "text_dict = corpora.Dictionary(text_list) # 创建语料的词语词典，每个单独的词语都会被赋予一个索引\n",
    "text_corpus = [text_dict.doc2bow(i) for i in text_list] #创建语料库\n",
    "tfidf = models.TfidfModel(text_corpus)\n",
    "corpus_tfidf = tfidf[text_corpus]"
   ]
  },
  {
   "cell_type": "code",
   "execution_count": null,
   "metadata": {},
   "outputs": [],
   "source": [
    "#模型评估：困惑度 &一致度\n",
    "x_list = []\n",
    "y_plist =[]\n",
    "y_clist =[]\n",
    "for i in range(2,50):\n",
    "    text_lda = models.LdaModel(corpus_tfidf,num_topics = i,id2word =text_dict ) # LDA模型训练\n",
    "    #困惑度\n",
    "    perplexity = text_lda.log_perplexity(corpus_tfidf)  \n",
    "    #一致度\n",
    "    cv_tmp = models.CoherenceModel(model=text_lda,texts=text_list, dictionary=text_dict, coherence='c_v')\n",
    "    x_list.append(i)\n",
    "    y_plist.append(perplexity)\n",
    "    y_clist.append(cv_tmp.get_coherence())\n",
    "#困惑度绘图    \n",
    "plt.figure(figsize=(30,15))    \n",
    "plt.subplot(1,2,1)\n",
    "plt.plot(x_list,y_plist)\n",
    "plt.xticks(np.linspace(0, 50, 51))\n",
    "plt.xlabel('num topics')\n",
    "plt.ylabel('perplexity score')\n",
    "plt.legend(('perplexity_values'), loc='best')\n",
    "#一致度绘图\n",
    "plt.subplot(1,2,2)\n",
    "plt.plot(x_list,y_clist)\n",
    "plt.xticks(np.linspace(0, 50, 51))\n",
    "plt.xlabel('num topics')\n",
    "plt.ylabel('coherence score')\n",
    "plt.legend(('coherence_values'), loc='best')\n",
    "\n",
    "plt.show()"
   ]
  },
  {
   "cell_type": "code",
   "execution_count": 13,
   "metadata": {
    "scrolled": false
   },
   "outputs": [],
   "source": [
    "#根据以上模型评估结果分析最优主题数目"
   ]
  },
  {
   "cell_type": "code",
   "execution_count": 19,
   "metadata": {
    "scrolled": true
   },
   "outputs": [
    {
     "name": "stdout",
     "output_type": "stream",
     "text": [
      "topic0\n",
      "0.038*\"森林公园\" + 0.025*\"古迹\" + 0.023*\"历史\" + 0.022*\"风景\" + 0.022*\"特色\" + 0.018*\"小时\" + 0.017*\"风光\" + 0.016*\"环线\" + 0.015*\"建筑\" + 0.013*\"游人\"\n",
      "topic1\n",
      "0.027*\"花桥\" + 0.023*\"体验\" + 0.022*\"鼓楼\" + 0.019*\"特色\" + 0.016*\"名气\" + 0.016*\"景色\" + 0.016*\"风景\" + 0.015*\"路线\" + 0.011*\"民俗\" + 0.011*\"建筑\"\n",
      "topic2\n",
      "0.074*\"时间\" + 0.040*\"瓷器\" + 0.040*\"游玩\" + 0.023*\"景色\" + 0.020*\"河道\" + 0.020*\"博物馆\" + 0.016*\"时代\" + 0.014*\"特点\" + 0.012*\"环境\" + 0.012*\"村庄\"\n",
      "topic3\n",
      "0.070*\"风景\" + 0.028*\"美誉\" + 0.026*\"很漂亮\" + 0.025*\"性价比\" + 0.021*\"名字\" + 0.016*\"故事\" + 0.014*\"历史\" + 0.013*\"走廊\" + 0.012*\"体力\" + 0.012*\"价格\"\n",
      "topic4\n",
      "0.085*\"门票\" + 0.054*\"博物馆\" + 0.030*\"参观\" + 0.020*\"陶瓷\" + 0.018*\"民间\" + 0.017*\"文化\" + 0.015*\"建筑\" + 0.014*\"名胜\" + 0.014*\"特色\" + 0.014*\"老街\"\n",
      "topic5\n",
      "0.053*\"观景台\" + 0.023*\"导游\" + 0.023*\"风景\" + 0.022*\"参观\" + 0.020*\"门票\" + 0.018*\"游客\" + 0.015*\"房间\" + 0.014*\"山景\" + 0.014*\"检票\" + 0.012*\"特色\"\n",
      "topic6\n",
      "0.074*\"景色\" + 0.023*\"天气\" + 0.019*\"空气\" + 0.015*\"取景\" + 0.014*\"住宅\" + 0.013*\"街道\" + 0.013*\"博物馆\" + 0.011*\"建筑\" + 0.010*\"特色\" + 0.009*\"门票\"\n",
      "topic7\n",
      "0.042*\"长廊\" + 0.038*\"文化\" + 0.031*\"历史\" + 0.027*\"建筑\" + 0.024*\"门票\" + 0.019*\"游客\" + 0.018*\"特色\" + 0.016*\"缆车\" + 0.015*\"小时\" + 0.014*\"孩子\"\n",
      "topic8\n",
      "0.034*\"景色\" + 0.028*\"缆车\" + 0.022*\"院落\" + 0.021*\"酒店\" + 0.021*\"买票\" + 0.019*\"朋友\" + 0.019*\"步行\" + 0.017*\"后裔\" + 0.016*\"禾木\" + 0.015*\"小孩\"\n",
      "topic9\n",
      "0.037*\"商业化\" + 0.022*\"博物馆\" + 0.019*\"门票\" + 0.019*\"价格\" + 0.018*\"苗家\" + 0.013*\"导游\" + 0.012*\"历史\" + 0.012*\"布置\" + 0.012*\"建议\" + 0.011*\"文化\"\n",
      "topic10\n",
      "0.054*\"博物馆\" + 0.054*\"文化\" + 0.030*\"历史\" + 0.025*\"故居\" + 0.018*\"收费\" + 0.015*\"参观\" + 0.013*\"门票\" + 0.012*\"后裔\" + 0.011*\"特色\" + 0.011*\"原汁原味\"\n",
      "topic11\n",
      "0.039*\"花园\" + 0.019*\"茶馆\" + 0.016*\"时间\" + 0.016*\"历史\" + 0.015*\"富商\" + 0.015*\"民族\" + 0.013*\"文化\" + 0.013*\"博物馆\" + 0.011*\"风情\" + 0.011*\"餐厅\"\n",
      "topic12\n",
      "0.062*\"聚宝盆\" + 0.015*\"风貌\" + 0.014*\"导游\" + 0.014*\"故事\" + 0.013*\"历史\" + 0.013*\"宅院\" + 0.012*\"一景\" + 0.010*\"大气\" + 0.010*\"元素\" + 0.009*\"镖师\"\n",
      "topic13\n",
      "0.054*\"观景台\" + 0.023*\"缆车\" + 0.022*\"风景\" + 0.018*\"鼓楼\" + 0.018*\"心情\" + 0.017*\"树木\" + 0.016*\"步行\" + 0.015*\"门票\" + 0.014*\"啥意思\" + 0.013*\"景观\"\n",
      "topic14\n",
      "0.034*\"建议\" + 0.024*\"经典\" + 0.022*\"老人\" + 0.021*\"神仙\" + 0.018*\"景色\" + 0.016*\"步行\" + 0.015*\"环境优美\" + 0.015*\"角落\" + 0.013*\"汽车\" + 0.013*\"少女\"\n",
      "topic15\n",
      "0.027*\"特色\" + 0.025*\"景色\" + 0.022*\"美誉\" + 0.020*\"民宿\" + 0.018*\"风景\" + 0.017*\"味道\" + 0.016*\"门票\" + 0.015*\"美食\" + 0.014*\"唱歌\" + 0.013*\"独具\"\n",
      "topic16\n",
      "0.069*\"玻璃\" + 0.024*\"气派\" + 0.017*\"缆车\" + 0.017*\"导游\" + 0.015*\"文化\" + 0.015*\"游客\" + 0.015*\"视野\" + 0.013*\"空气\" + 0.013*\"门票\" + 0.013*\"茶室\"\n",
      "topic17\n",
      "0.024*\"文物保护\" + 0.024*\"单位\" + 0.023*\"风景\" + 0.022*\"美景\" + 0.022*\"重点\" + 0.016*\"故事\" + 0.016*\"民居\" + 0.015*\"夜景\" + 0.013*\"建议\" + 0.012*\"人流\"\n",
      "topic18\n",
      "0.035*\"宅子\" + 0.031*\"门票\" + 0.020*\"格局\" + 0.020*\"风景\" + 0.018*\"景色\" + 0.017*\"小时\" + 0.015*\"游船\" + 0.014*\"步行\" + 0.014*\"特色\" + 0.013*\"村子\"\n",
      "topic19\n",
      "0.052*\"门楼\" + 0.042*\"建筑\" + 0.030*\"特色\" + 0.027*\"文化\" + 0.020*\"房屋\" + 0.020*\"门票\" + 0.017*\"历史\" + 0.017*\"时间\" + 0.014*\"博物馆\" + 0.014*\"体验\"\n",
      "topic20\n",
      "0.049*\"特色\" + 0.029*\"国际\" + 0.024*\"后人\" + 0.016*\"区别\" + 0.015*\"石板\" + 0.014*\"景色\" + 0.013*\"小巷\" + 0.012*\"路程\" + 0.012*\"时间\" + 0.010*\"房屋\"\n",
      "topic21\n",
      "0.032*\"小时\" + 0.014*\"步行\" + 0.014*\"老板\" + 0.014*\"好客\" + 0.012*\"木头\" + 0.012*\"原价\" + 0.011*\"热情\" + 0.011*\"农家\" + 0.011*\"餐厅\" + 0.010*\"民风\"\n",
      "topic22\n",
      "0.034*\"建筑\" + 0.034*\"门票\" + 0.020*\"典型\" + 0.017*\"艺术\" + 0.016*\"陶瓷\" + 0.015*\"图片\" + 0.013*\"味道\" + 0.013*\"时间\" + 0.011*\"作坊\" + 0.011*\"骨头\"\n",
      "topic23\n",
      "0.031*\"游玩\" + 0.030*\"民间\" + 0.030*\"牌坊\" + 0.019*\"环保车\" + 0.017*\"地貌\" + 0.013*\"名镇\" + 0.013*\"后裔\" + 0.012*\"文光\" + 0.011*\"历史\" + 0.011*\"瀑布\"\n",
      "topic24\n",
      "0.076*\"门票\" + 0.019*\"景色\" + 0.018*\"小时\" + 0.015*\"单程\" + 0.015*\"爬山\" + 0.014*\"时间\" + 0.014*\"寨子\" + 0.013*\"韵味\" + 0.013*\"茶叶\" + 0.011*\"原因\"\n",
      "topic25\n",
      "0.052*\"大户人家\" + 0.040*\"游客\" + 0.028*\"景色\" + 0.023*\"中心\" + 0.017*\"性价比\" + 0.015*\"参观\" + 0.014*\"码头\" + 0.012*\"距离\" + 0.012*\"门票\" + 0.011*\"鼓楼\"\n",
      "topic26\n",
      "0.023*\"排队\" + 0.022*\"买票\" + 0.017*\"走路\" + 0.015*\"客服\" + 0.014*\"博物馆\" + 0.014*\"块钱\" + 0.014*\"咖啡\" + 0.013*\"门票\" + 0.013*\"玩玩\" + 0.013*\"逊色\"\n",
      "topic27\n",
      "0.038*\"木屋\" + 0.013*\"底蕴\" + 0.012*\"乘车\" + 0.012*\"大巴\" + 0.012*\"红色\" + 0.011*\"手艺\" + 0.011*\"亲子\" + 0.011*\"小吃\" + 0.010*\"热情\" + 0.010*\"中心\"\n",
      "topic28\n",
      "0.030*\"院子\" + 0.029*\"砖雕\" + 0.021*\"午饭\" + 0.020*\"门票\" + 0.017*\"经济\" + 0.016*\"大堂\" + 0.014*\"建筑\" + 0.014*\"游客\" + 0.014*\"旅游景点\" + 0.012*\"住宿\"\n",
      "topic29\n",
      "0.026*\"排队\" + 0.022*\"味道\" + 0.020*\"茶园\" + 0.017*\"公园\" + 0.016*\"故事\" + 0.014*\"景观\" + 0.014*\"游客\" + 0.014*\"世界\" + 0.014*\"工作人员\" + 0.012*\"茶文化\"\n",
      "topic30\n",
      "0.019*\"旅行团\" + 0.016*\"团队\" + 0.014*\"木头\" + 0.014*\"镇子\" + 0.013*\"故居\" + 0.013*\"建筑\" + 0.013*\"气息\" + 0.012*\"节目\" + 0.012*\"风景\" + 0.011*\"村子\"\n",
      "topic31\n",
      "0.054*\"体验\" + 0.023*\"故事\" + 0.021*\"印象\" + 0.020*\"绝壁\" + 0.018*\"特色\" + 0.017*\"区域\" + 0.017*\"绿化\" + 0.014*\"商人\" + 0.013*\"交通\" + 0.012*\"走路\"\n",
      "topic32\n",
      "0.036*\"买票\" + 0.030*\"湖面\" + 0.027*\"仙境\" + 0.026*\"美景\" + 0.022*\"云雾\" + 0.020*\"特色\" + 0.017*\"风景\" + 0.017*\"代表\" + 0.014*\"历史\" + 0.013*\"观景台\"\n"
     ]
    }
   ],
   "source": [
    "#最优主题数目下的LDA主题模型\n",
    "n = 33\n",
    "lda = models.LdaModel(text_corpus,num_topics =n,id2word =text_dict ) # LDA模型训练  该最优主题数为32\n",
    "for i in range(n):\n",
    "    print('topic' + str(i))\n",
    "    print(lda.print_topic(i)) # 输出每个主题"
   ]
  },
  {
   "cell_type": "code",
   "execution_count": 14,
   "metadata": {
    "scrolled": true
   },
   "outputs": [],
   "source": [
    "#可视化模型，帮助理解主题\n",
    "#vis_data = pyLDAvis.gensim.prepare(lda, text_corpus,text_dict)\n",
    "#pyLDAvis.show(vis_data, open_browser=False)"
   ]
  },
  {
   "cell_type": "code",
   "execution_count": 15,
   "metadata": {},
   "outputs": [],
   "source": [
    "#得到每个文档（每评论文本）的主导主题\n",
    "def format_topics_sentences(ldamodel, corpus, texts):\n",
    "    # Init output\n",
    "    sent_topics_df = pd.DataFrame()\n",
    "\n",
    "    # Get main topic in each document\n",
    "    for i, row in enumerate(ldamodel[corpus]):\n",
    "        row = sorted(row, key=lambda x: (x[1]), reverse=True)\n",
    "        # Get the Dominant topic, Perc Contribution and Keywords for each document\n",
    "        for j, (topic_num, prop_topic) in enumerate(row):\n",
    "            if j == 0:  # => dominant topic\n",
    "                wp = ldamodel.show_topic(topic_num)\n",
    "                topic_keywords = \", \".join([word for word, prop in wp])\n",
    "                sent_topics_df = sent_topics_df.append(pd.Series([int(topic_num), round(prop_topic,4), topic_keywords]), ignore_index=True)\n",
    "            else:\n",
    "                break\n",
    "    sent_topics_df.columns = ['Dominant_Topic', 'Perc_Contribution', 'Topic_Keywords']\n",
    "\n",
    "    # Add original text to the end of the output\n",
    "    contents = pd.Series(texts)\n",
    "    sent_topics_df = pd.concat([sent_topics_df, contents], axis=1)\n",
    "    return(sent_topics_df)"
   ]
  },
  {
   "cell_type": "code",
   "execution_count": null,
   "metadata": {},
   "outputs": [],
   "source": []
  },
  {
   "cell_type": "code",
   "execution_count": 16,
   "metadata": {},
   "outputs": [
    {
     "data": {
      "text/html": [
       "<div>\n",
       "<style scoped>\n",
       "    .dataframe tbody tr th:only-of-type {\n",
       "        vertical-align: middle;\n",
       "    }\n",
       "\n",
       "    .dataframe tbody tr th {\n",
       "        vertical-align: top;\n",
       "    }\n",
       "\n",
       "    .dataframe thead th {\n",
       "        text-align: right;\n",
       "    }\n",
       "</style>\n",
       "<table border=\"1\" class=\"dataframe\">\n",
       "  <thead>\n",
       "    <tr style=\"text-align: right;\">\n",
       "      <th></th>\n",
       "      <th>Document_No</th>\n",
       "      <th>Dominant_Topic</th>\n",
       "      <th>Topic_Perc_Contrib</th>\n",
       "      <th>Keywords</th>\n",
       "      <th>Text</th>\n",
       "    </tr>\n",
       "  </thead>\n",
       "  <tbody>\n",
       "    <tr>\n",
       "      <th>0</th>\n",
       "      <td>0</td>\n",
       "      <td>32.0</td>\n",
       "      <td>0.9485</td>\n",
       "      <td>游客, 饭店, 少数民族, 民族, 作坊, 商业, 特色, 网络, 门票, 小巷</td>\n",
       "      <td>西江千户苗寨的住所建筑有很大的少数民族风貌 依山而建 （新建的）可以租套苗衣 （头饰 挂的饰...</td>\n",
       "    </tr>\n",
       "    <tr>\n",
       "      <th>1</th>\n",
       "      <td>1</td>\n",
       "      <td>23.0</td>\n",
       "      <td>0.9430</td>\n",
       "      <td>博物馆, 后裔, 河道, 建筑, 景色, 文化, 特色, 后人, 房屋, 门票</td>\n",
       "      <td>馆内珍藏有1220余件苗族文物和350余张有代表性的图片、画像、书籍，从苗族历史、生产、生活...</td>\n",
       "    </tr>\n",
       "    <tr>\n",
       "      <th>2</th>\n",
       "      <td>2</td>\n",
       "      <td>23.0</td>\n",
       "      <td>0.7501</td>\n",
       "      <td>博物馆, 后裔, 河道, 建筑, 景色, 文化, 特色, 后人, 房屋, 门票</td>\n",
       "      <td>去西江千户苗寨必定要去看看这个博物馆，位于寨子中心区，无需门票。馆内珍藏有1220余件苗族文...</td>\n",
       "    </tr>\n",
       "    <tr>\n",
       "      <th>3</th>\n",
       "      <td>3</td>\n",
       "      <td>10.0</td>\n",
       "      <td>0.6052</td>\n",
       "      <td>观景台, 风景, 门票, 名胜, 花桥, 建筑, 商业街, 海拔, 时间, 茶园</td>\n",
       "      <td>含在西江苗寨的门票里向游客展示了苗族的主要生活形态祭祀节日苗寨的建筑风格苗药的各种药材苗族的...</td>\n",
       "    </tr>\n",
       "    <tr>\n",
       "      <th>4</th>\n",
       "      <td>4</td>\n",
       "      <td>9.0</td>\n",
       "      <td>0.8788</td>\n",
       "      <td>游玩, 门票, 古迹, 商业化, 环保车, 风格, 气息, 特色, 收费, 历史</td>\n",
       "      <td>苗寨要住一晚上才会看到夜景，如果仅仅白天意思不是太大。还是建议大家旅游不能赶，要慢慢体验。酸...</td>\n",
       "    </tr>\n",
       "    <tr>\n",
       "      <th>5</th>\n",
       "      <td>5</td>\n",
       "      <td>15.0</td>\n",
       "      <td>0.4892</td>\n",
       "      <td>门票, 宅子, 长廊, 聚宝盆, 游客, 荷花, 博物馆, 历史, 建筑, 森林公园</td>\n",
       "      <td>比黔东南民族博物馆再降一个档次 图文展示内容态度太多 但是去苗寨还是去这里了解一下历史文化比...</td>\n",
       "    </tr>\n",
       "    <tr>\n",
       "      <th>6</th>\n",
       "      <td>6</td>\n",
       "      <td>6.0</td>\n",
       "      <td>0.5728</td>\n",
       "      <td>门票, 博物馆, 故居, 建筑, 参观, 图片, 检票, 历史, 唱歌, 民宿</td>\n",
       "      <td>很好的景点，就是人太多了，导致住宿价格搞得离谱，建议不要七八月份来。餐饮的价格倒是管理的不错...</td>\n",
       "    </tr>\n",
       "    <tr>\n",
       "      <th>7</th>\n",
       "      <td>7</td>\n",
       "      <td>15.0</td>\n",
       "      <td>0.6717</td>\n",
       "      <td>门票, 宅子, 长廊, 聚宝盆, 游客, 荷花, 博物馆, 历史, 建筑, 森林公园</td>\n",
       "      <td>是大门票里包括的，拿身份证或者门票进入，是个典型的苗寨宅子，里面有宗教丧葬农耕历史等等主题的...</td>\n",
       "    </tr>\n",
       "    <tr>\n",
       "      <th>8</th>\n",
       "      <td>8</td>\n",
       "      <td>7.0</td>\n",
       "      <td>0.9596</td>\n",
       "      <td>苗家, 特色, 文化, 走路, 小吃, 婆婆, 古色古香, 博物, 体验, 经济</td>\n",
       "      <td>西江苗族博物館，位於西江千戶苗寨景區內，博物館建築的外觀，恰似苗族吊腳樓。博物館內設有歷史、...</td>\n",
       "    </tr>\n",
       "    <tr>\n",
       "      <th>9</th>\n",
       "      <td>9</td>\n",
       "      <td>17.0</td>\n",
       "      <td>0.9030</td>\n",
       "      <td>美景, 民俗, 历史, 小时, 民风, 关键, 工作人员, 建议, 关门, 时间</td>\n",
       "      <td>每天九点开门。原说凭西江门票或身份证进。真进去后工作人员也不查。内容丰富。其历史、装饰、服装...</td>\n",
       "    </tr>\n",
       "  </tbody>\n",
       "</table>\n",
       "</div>"
      ],
      "text/plain": [
       "   Document_No  Dominant_Topic  Topic_Perc_Contrib  \\\n",
       "0            0            32.0              0.9485   \n",
       "1            1            23.0              0.9430   \n",
       "2            2            23.0              0.7501   \n",
       "3            3            10.0              0.6052   \n",
       "4            4             9.0              0.8788   \n",
       "5            5            15.0              0.4892   \n",
       "6            6             6.0              0.5728   \n",
       "7            7            15.0              0.6717   \n",
       "8            8             7.0              0.9596   \n",
       "9            9            17.0              0.9030   \n",
       "\n",
       "                                     Keywords  \\\n",
       "0    游客, 饭店, 少数民族, 民族, 作坊, 商业, 特色, 网络, 门票, 小巷   \n",
       "1     博物馆, 后裔, 河道, 建筑, 景色, 文化, 特色, 后人, 房屋, 门票   \n",
       "2     博物馆, 后裔, 河道, 建筑, 景色, 文化, 特色, 后人, 房屋, 门票   \n",
       "3    观景台, 风景, 门票, 名胜, 花桥, 建筑, 商业街, 海拔, 时间, 茶园   \n",
       "4    游玩, 门票, 古迹, 商业化, 环保车, 风格, 气息, 特色, 收费, 历史   \n",
       "5  门票, 宅子, 长廊, 聚宝盆, 游客, 荷花, 博物馆, 历史, 建筑, 森林公园   \n",
       "6     门票, 博物馆, 故居, 建筑, 参观, 图片, 检票, 历史, 唱歌, 民宿   \n",
       "7  门票, 宅子, 长廊, 聚宝盆, 游客, 荷花, 博物馆, 历史, 建筑, 森林公园   \n",
       "8    苗家, 特色, 文化, 走路, 小吃, 婆婆, 古色古香, 博物, 体验, 经济   \n",
       "9    美景, 民俗, 历史, 小时, 民风, 关键, 工作人员, 建议, 关门, 时间   \n",
       "\n",
       "                                                Text  \n",
       "0  西江千户苗寨的住所建筑有很大的少数民族风貌 依山而建 （新建的）可以租套苗衣 （头饰 挂的饰...  \n",
       "1  馆内珍藏有1220余件苗族文物和350余张有代表性的图片、画像、书籍，从苗族历史、生产、生活...  \n",
       "2  去西江千户苗寨必定要去看看这个博物馆，位于寨子中心区，无需门票。馆内珍藏有1220余件苗族文...  \n",
       "3  含在西江苗寨的门票里向游客展示了苗族的主要生活形态祭祀节日苗寨的建筑风格苗药的各种药材苗族的...  \n",
       "4  苗寨要住一晚上才会看到夜景，如果仅仅白天意思不是太大。还是建议大家旅游不能赶，要慢慢体验。酸...  \n",
       "5  比黔东南民族博物馆再降一个档次 图文展示内容态度太多 但是去苗寨还是去这里了解一下历史文化比...  \n",
       "6  很好的景点，就是人太多了，导致住宿价格搞得离谱，建议不要七八月份来。餐饮的价格倒是管理的不错...  \n",
       "7  是大门票里包括的，拿身份证或者门票进入，是个典型的苗寨宅子，里面有宗教丧葬农耕历史等等主题的...  \n",
       "8  西江苗族博物館，位於西江千戶苗寨景區內，博物館建築的外觀，恰似苗族吊腳樓。博物館內設有歷史、...  \n",
       "9  每天九点开门。原说凭西江门票或身份证进。真进去后工作人员也不查。内容丰富。其历史、装饰、服装...  "
      ]
     },
     "execution_count": 16,
     "metadata": {},
     "output_type": "execute_result"
    }
   ],
   "source": [
    "#文档中贡献百分比最高的主题\n",
    "df_topic_sents_keywords = format_topics_sentences(ldamodel=lda, corpus=text_corpus, texts=data)# Format\n",
    "df_dominant_topic = df_topic_sents_keywords.reset_index()\n",
    "df_dominant_topic.columns = ['Document_No', 'Dominant_Topic', 'Topic_Perc_Contrib', 'Keywords', 'Text']# Show\n",
    "df_dominant_topic.head(10)\n",
    "#df_dominant_topic['Dominant_Topic'].value_counts().plot(kind='bar')"
   ]
  },
  {
   "cell_type": "code",
   "execution_count": 17,
   "metadata": {},
   "outputs": [
    {
     "data": {
      "text/plain": [
       "3922"
      ]
     },
     "execution_count": 17,
     "metadata": {},
     "output_type": "execute_result"
    }
   ],
   "source": [
    "len(df_dominant_topic)"
   ]
  },
  {
   "cell_type": "markdown",
   "metadata": {},
   "source": [
    "# 通过可视化模型以及每个主题的主导文档手动合并几个主题，然后再进行下一步（情感分析）"
   ]
  },
  {
   "cell_type": "code",
   "execution_count": null,
   "metadata": {},
   "outputs": [],
   "source": []
  },
  {
   "cell_type": "code",
   "execution_count": null,
   "metadata": {},
   "outputs": [],
   "source": []
  },
  {
   "cell_type": "code",
   "execution_count": null,
   "metadata": {},
   "outputs": [],
   "source": []
  },
  {
   "cell_type": "code",
   "execution_count": null,
   "metadata": {},
   "outputs": [],
   "source": []
  },
  {
   "cell_type": "code",
   "execution_count": null,
   "metadata": {},
   "outputs": [],
   "source": []
  },
  {
   "cell_type": "code",
   "execution_count": null,
   "metadata": {},
   "outputs": [],
   "source": []
  },
  {
   "cell_type": "code",
   "execution_count": null,
   "metadata": {
    "scrolled": true
   },
   "outputs": [],
   "source": []
  },
  {
   "cell_type": "code",
   "execution_count": null,
   "metadata": {},
   "outputs": [],
   "source": []
  },
  {
   "cell_type": "code",
   "execution_count": 24,
   "metadata": {
    "scrolled": true
   },
   "outputs": [
    {
     "name": "stderr",
     "output_type": "stream",
     "text": [
      "D:\\anaconda\\lib\\site-packages\\ipykernel_launcher.py:2: SettingWithCopyWarning: \n",
      "A value is trying to be set on a copy of a slice from a DataFrame\n",
      "\n",
      "See the caveats in the documentation: http://pandas.pydata.org/pandas-docs/stable/indexing.html#indexing-view-versus-copy\n",
      "  \n",
      "D:\\anaconda\\lib\\site-packages\\ipykernel_launcher.py:3: SettingWithCopyWarning: \n",
      "A value is trying to be set on a copy of a slice from a DataFrame\n",
      "\n",
      "See the caveats in the documentation: http://pandas.pydata.org/pandas-docs/stable/indexing.html#indexing-view-versus-copy\n",
      "  This is separate from the ipykernel package so we can avoid doing imports until\n",
      "D:\\anaconda\\lib\\site-packages\\ipykernel_launcher.py:4: SettingWithCopyWarning: \n",
      "A value is trying to be set on a copy of a slice from a DataFrame\n",
      "\n",
      "See the caveats in the documentation: http://pandas.pydata.org/pandas-docs/stable/indexing.html#indexing-view-versus-copy\n",
      "  after removing the cwd from sys.path.\n",
      "D:\\anaconda\\lib\\site-packages\\ipykernel_launcher.py:5: SettingWithCopyWarning: \n",
      "A value is trying to be set on a copy of a slice from a DataFrame\n",
      "\n",
      "See the caveats in the documentation: http://pandas.pydata.org/pandas-docs/stable/indexing.html#indexing-view-versus-copy\n",
      "  \"\"\"\n"
     ]
    }
   ],
   "source": [
    "df_dominant_topic['Topic'] = None\n",
    "df_dominant_topic.Topic[df_dominant_topic.Dominant_Topic.isin([0,3,6,8,15])] = '自然风景'\n",
    "df_dominant_topic.Topic[df_dominant_topic.Dominant_Topic.isin([1,7,11,18,19,22,25,28])] = '人文环境'\n",
    "df_dominant_topic.Topic[df_dominant_topic.Dominant_Topic.isin([5,9,13,14,16,21,23,24,26,29,30,31,32])] = '顾客体验'\n",
    "df_dominant_topic.Topic[df_dominant_topic.Dominant_Topic.isin([4,10,12,17,20,27])] = '民俗文化'\n",
    "df_dominant_topic.fillna('others',inplace = True)"
   ]
  },
  {
   "cell_type": "code",
   "execution_count": 25,
   "metadata": {
    "scrolled": true
   },
   "outputs": [
    {
     "data": {
      "text/plain": [
       "<matplotlib.axes._subplots.AxesSubplot at 0x210b22566d8>"
      ]
     },
     "execution_count": 25,
     "metadata": {},
     "output_type": "execute_result"
    },
    {
     "data": {
      "image/png": "[encoded data removed]",
      "text/plain": [
       "<Figure size 432x288 with 1 Axes>"
      ]
     },
     "metadata": {
      "needs_background": "light"
     },
     "output_type": "display_data"
    }
   ],
   "source": [
    "mpl.rcParams['font.sans-serif'] = ['Microsoft YaHei'] \n",
    "sns.countplot(df_dominant_topic['Topic'])"
   ]
  },
  {
   "cell_type": "code",
   "execution_count": null,
   "metadata": {},
   "outputs": [],
   "source": []
  },
  {
   "cell_type": "markdown",
   "metadata": {},
   "source": [
    "#  情感分析"
   ]
  },
  {
   "cell_type": "code",
   "execution_count": 26,
   "metadata": {},
   "outputs": [],
   "source": [
    "Attitude = []    \n",
    "for i, v in df_dominant_topic['Text'].iteritems():\n",
    "    s = SnowNLP(v)\n",
    "    Attitude.append(s.sentiments)\n",
    "df_dominant_topic['Attitude'] = Attitude"
   ]
  },
  {
   "cell_type": "code",
   "execution_count": 27,
   "metadata": {},
   "outputs": [
    {
     "data": {
      "text/plain": [
       "<matplotlib.axes._subplots.AxesSubplot at 0x210b232fa58>"
      ]
     },
     "execution_count": 27,
     "metadata": {},
     "output_type": "execute_result"
    },
    {
     "data": {
      "image/png": "[encoded data removed]",
      "text/plain": [
       "<Figure size 432x288 with 1 Axes>"
      ]
     },
     "metadata": {
      "needs_background": "light"
     },
     "output_type": "display_data"
    }
   ],
   "source": [
    "#所有主题的情感倾向分布情况\n",
    "sns.distplot(df_dominant_topic['Attitude'],kde = False)"
   ]
  },
  {
   "cell_type": "code",
   "execution_count": 28,
   "metadata": {},
   "outputs": [
    {
     "data": {
      "text/plain": [
       "<matplotlib.axes._subplots.AxesSubplot at 0x210b2256a20>"
      ]
     },
     "execution_count": 28,
     "metadata": {},
     "output_type": "execute_result"
    },
    {
     "data": {
      "image/png": "[encoded data removed]",
      "text/plain": [
       "<Figure size 432x288 with 1 Axes>"
      ]
     },
     "metadata": {
      "needs_background": "light"
     },
     "output_type": "display_data"
    }
   ],
   "source": [
    "#某个主题的情感倾向分布情况-自然风景\n",
    "sns.distplot(df_dominant_topic[df_dominant_topic['Topic']=='自然风景']['Attitude'],kde = False)# 主题35的情感倾向"
   ]
  },
  {
   "cell_type": "code",
   "execution_count": 29,
   "metadata": {
    "scrolled": true
   },
   "outputs": [
    {
     "data": {
      "text/plain": [
       "<matplotlib.axes._subplots.AxesSubplot at 0x210b25c8e10>"
      ]
     },
     "execution_count": 29,
     "metadata": {},
     "output_type": "execute_result"
    },
    {
     "data": {
      "image/png": "[encoded data removed]",
      "text/plain": [
       "<Figure size 432x288 with 1 Axes>"
      ]
     },
     "metadata": {
      "needs_background": "light"
     },
     "output_type": "display_data"
    }
   ],
   "source": [
    "#某个主题的情感倾向分布情况-人文环境\n",
    "sns.distplot(df_dominant_topic[df_dominant_topic['Topic']=='人文环境']['Attitude'],kde = False)# 主题35的情感倾向"
   ]
  },
  {
   "cell_type": "code",
   "execution_count": 30,
   "metadata": {
    "scrolled": true
   },
   "outputs": [
    {
     "data": {
      "text/plain": [
       "<matplotlib.axes._subplots.AxesSubplot at 0x210b29422b0>"
      ]
     },
     "execution_count": 30,
     "metadata": {},
     "output_type": "execute_result"
    },
    {
     "data": {
      "image/png": "[encoded data removed]",
      "text/plain": [
       "<Figure size 432x288 with 1 Axes>"
      ]
     },
     "metadata": {
      "needs_background": "light"
     },
     "output_type": "display_data"
    }
   ],
   "source": [
    "#某个主题的情感倾向分布情况-用户体验\n",
    "sns.distplot(df_dominant_topic[df_dominant_topic['Topic']=='顾客体验']['Attitude'],kde = False)# 主题35的情感倾向"
   ]
  },
  {
   "cell_type": "code",
   "execution_count": 31,
   "metadata": {},
   "outputs": [
    {
     "data": {
      "text/plain": [
       "<matplotlib.axes._subplots.AxesSubplot at 0x210b29e2f98>"
      ]
     },
     "execution_count": 31,
     "metadata": {},
     "output_type": "execute_result"
    },
    {
     "data": {
      "image/png": "[encoded data removed]",
      "text/plain": [
       "<Figure size 432x288 with 1 Axes>"
      ]
     },
     "metadata": {
      "needs_background": "light"
     },
     "output_type": "display_data"
    }
   ],
   "source": [
    "#某个主题的情感倾向分布情况-民俗文化\n",
    "sns.distplot(df_dominant_topic[df_dominant_topic['Topic']=='民俗文化']['Attitude'],kde = False)# 主题35的情感倾向"
   ]
  },
  {
   "cell_type": "markdown",
   "metadata": {},
   "source": [
    "# 统计分析"
   ]
  },
  {
   "cell_type": "code",
   "execution_count": 35,
   "metadata": {},
   "outputs": [],
   "source": [
    "df_gender_fans_sta = pd.merge(df,df_dominant_topic,left_on='text',right_on='Text',how='inner')[['gender','粉丝','text','Topic','Topic_Perc_Contrib']]"
   ]
  },
  {
   "cell_type": "code",
   "execution_count": 36,
   "metadata": {},
   "outputs": [],
   "source": [
    "df_gender_fans_sta.dropna(inplace = True)"
   ]
  },
  {
   "cell_type": "code",
   "execution_count": 38,
   "metadata": {
    "scrolled": true
   },
   "outputs": [
    {
     "data": {
      "text/html": [
       "<div>\n",
       "<style scoped>\n",
       "    .dataframe tbody tr th:only-of-type {\n",
       "        vertical-align: middle;\n",
       "    }\n",
       "\n",
       "    .dataframe tbody tr th {\n",
       "        vertical-align: top;\n",
       "    }\n",
       "\n",
       "    .dataframe thead th {\n",
       "        text-align: right;\n",
       "    }\n",
       "</style>\n",
       "<table border=\"1\" class=\"dataframe\">\n",
       "  <thead>\n",
       "    <tr style=\"text-align: right;\">\n",
       "      <th></th>\n",
       "      <th>gender</th>\n",
       "      <th>粉丝</th>\n",
       "      <th>text</th>\n",
       "      <th>Topic</th>\n",
       "      <th>Topic_Perc_Contrib</th>\n",
       "    </tr>\n",
       "  </thead>\n",
       "  <tbody>\n",
       "    <tr>\n",
       "      <th>0</th>\n",
       "      <td>male</td>\n",
       "      <td>0.0</td>\n",
       "      <td>西江千户苗寨的住所建筑有很大的少数民族风貌 依山而建 （新建的）可以租套苗衣 （头饰 挂的饰...</td>\n",
       "      <td>顾客体验</td>\n",
       "      <td>0.9485</td>\n",
       "    </tr>\n",
       "    <tr>\n",
       "      <th>1</th>\n",
       "      <td>male</td>\n",
       "      <td>73.0</td>\n",
       "      <td>馆内珍藏有1220余件苗族文物和350余张有代表性的图片、画像、书籍，从苗族历史、生产、生活...</td>\n",
       "      <td>顾客体验</td>\n",
       "      <td>0.9430</td>\n",
       "    </tr>\n",
       "    <tr>\n",
       "      <th>2</th>\n",
       "      <td>female</td>\n",
       "      <td>1.0</td>\n",
       "      <td>去西江千户苗寨必定要去看看这个博物馆，位于寨子中心区，无需门票。馆内珍藏有1220余件苗族文...</td>\n",
       "      <td>顾客体验</td>\n",
       "      <td>0.7501</td>\n",
       "    </tr>\n",
       "    <tr>\n",
       "      <th>3</th>\n",
       "      <td>female</td>\n",
       "      <td>12.0</td>\n",
       "      <td>含在西江苗寨的门票里向游客展示了苗族的主要生活形态祭祀节日苗寨的建筑风格苗药的各种药材苗族的...</td>\n",
       "      <td>民俗文化</td>\n",
       "      <td>0.6052</td>\n",
       "    </tr>\n",
       "    <tr>\n",
       "      <th>4</th>\n",
       "      <td>male</td>\n",
       "      <td>22.0</td>\n",
       "      <td>苗寨要住一晚上才会看到夜景，如果仅仅白天意思不是太大。还是建议大家旅游不能赶，要慢慢体验。酸...</td>\n",
       "      <td>顾客体验</td>\n",
       "      <td>0.8788</td>\n",
       "    </tr>\n",
       "  </tbody>\n",
       "</table>\n",
       "</div>"
      ],
      "text/plain": [
       "   gender    粉丝                                               text Topic  \\\n",
       "0    male   0.0  西江千户苗寨的住所建筑有很大的少数民族风貌 依山而建 （新建的）可以租套苗衣 （头饰 挂的饰...  顾客体验   \n",
       "1    male  73.0  馆内珍藏有1220余件苗族文物和350余张有代表性的图片、画像、书籍，从苗族历史、生产、生活...  顾客体验   \n",
       "2  female   1.0  去西江千户苗寨必定要去看看这个博物馆，位于寨子中心区，无需门票。馆内珍藏有1220余件苗族文...  顾客体验   \n",
       "3  female  12.0  含在西江苗寨的门票里向游客展示了苗族的主要生活形态祭祀节日苗寨的建筑风格苗药的各种药材苗族的...  民俗文化   \n",
       "4    male  22.0  苗寨要住一晚上才会看到夜景，如果仅仅白天意思不是太大。还是建议大家旅游不能赶，要慢慢体验。酸...  顾客体验   \n",
       "\n",
       "   Topic_Perc_Contrib  \n",
       "0              0.9485  \n",
       "1              0.9430  \n",
       "2              0.7501  \n",
       "3              0.6052  \n",
       "4              0.8788  "
      ]
     },
     "execution_count": 38,
     "metadata": {},
     "output_type": "execute_result"
    }
   ],
   "source": [
    "df_gender_fans_sta.head()"
   ]
  },
  {
   "cell_type": "code",
   "execution_count": 61,
   "metadata": {},
   "outputs": [
    {
     "name": "stdout",
     "output_type": "stream",
     "text": [
      "Index(['顾客体验', '自然风景', '人文环境', '民俗文化', 'others'], dtype='object')\n"
     ]
    }
   ],
   "source": [
    "index = df_gender_fans_sta['Topic'].value_counts(normalize = True, dropna = False).index\n",
    "statistics = df_gender_fans_sta.groupby(by=['Topic','gender'])['Topic_Perc_Contrib'].sum().values.tolist()\n",
    "\n",
    "\n",
    "female_count = df_gender_fans_sta[ df_gender_fans_sta['gender']=='female'].shape[0]   #男游客评论人数\n",
    "male_count = df_gender_fans_sta[ df_gender_fans_sta['gender']=='male'].shape[0]       #女游客评论人数\n",
    "\n",
    "a,b = [],[]\n",
    "for i in range(len(statistics)):                                                      #标准化\n",
    "    if i%2 ==0:\n",
    "        a.append(statistics[i]/female_count)\n",
    "    else:\n",
    "        b.append(statistics[i]/male_count)\n",
    "for i in range(len(a)):\n",
    "    a[i],b[i] = a[i]/(a[i]+b[i]),b[i]/(a[i]+b[i])"
   ]
  },
  {
   "cell_type": "code",
   "execution_count": 60,
   "metadata": {},
   "outputs": [
    {
     "data": {
      "image/png": "[encoded data removed]",
      "text/plain": [
       "<Figure size 432x288 with 1 Axes>"
      ]
     },
     "metadata": {
      "needs_background": "light"
     },
     "output_type": "display_data"
    }
   ],
   "source": [
    "plt.bar(index, a, width=0.4, label='female')\n",
    "plt.bar(index, b, width=0.4, bottom=a, label= 'male')\n",
    "plt.axhline(y = 0.5,ls ='--')\n",
    "plt.legend()\n",
    "plt.show()"
   ]
  },
  {
   "cell_type": "code",
   "execution_count": null,
   "metadata": {},
   "outputs": [],
   "source": []
  },
  {
   "cell_type": "code",
   "execution_count": 63,
   "metadata": {
    "scrolled": true
   },
   "outputs": [
    {
     "data": {
      "text/plain": [
       "Topic   gender\n",
       "others  female     31.130900\n",
       "        male       27.481600\n",
       "人文环境    female    281.591601\n",
       "        male      246.390501\n",
       "民俗文化    female    208.676801\n",
       "        male      212.546801\n",
       "自然风景    female    206.609401\n",
       "        male      203.558301\n",
       "顾客体验    female    405.238501\n",
       "        male      425.024601\n",
       "Name: Topic_Perc_Contrib, dtype: float64"
      ]
     },
     "execution_count": 63,
     "metadata": {},
     "output_type": "execute_result"
    }
   ],
   "source": [
    "df_gender_fans_sta.groupby(by=['Topic','gender'])['Topic_Perc_Contrib'].sum()"
   ]
  },
  {
   "cell_type": "code",
   "execution_count": null,
   "metadata": {},
   "outputs": [],
   "source": []
  },
  {
   "cell_type": "code",
   "execution_count": null,
   "metadata": {},
   "outputs": [],
   "source": []
  },
  {
   "cell_type": "code",
   "execution_count": null,
   "metadata": {},
   "outputs": [],
   "source": []
  },
  {
   "cell_type": "code",
   "execution_count": null,
   "metadata": {},
   "outputs": [],
   "source": []
  },
  {
   "cell_type": "code",
   "execution_count": null,
   "metadata": {},
   "outputs": [],
   "source": []
  },
  {
   "cell_type": "code",
   "execution_count": 291,
   "metadata": {},
   "outputs": [
    {
     "data": {
      "text/html": [
       "<div>\n",
       "<style scoped>\n",
       "    .dataframe tbody tr th:only-of-type {\n",
       "        vertical-align: middle;\n",
       "    }\n",
       "\n",
       "    .dataframe tbody tr th {\n",
       "        vertical-align: top;\n",
       "    }\n",
       "\n",
       "    .dataframe thead tr th {\n",
       "        text-align: left;\n",
       "    }\n",
       "</style>\n",
       "<table border=\"1\" class=\"dataframe\">\n",
       "  <thead>\n",
       "    <tr>\n",
       "      <th>Topic</th>\n",
       "      <th colspan=\"2\" halign=\"left\">others</th>\n",
       "      <th colspan=\"2\" halign=\"left\">人文环境</th>\n",
       "      <th colspan=\"2\" halign=\"left\">民俗文化</th>\n",
       "      <th colspan=\"2\" halign=\"left\">自然风景</th>\n",
       "      <th colspan=\"2\" halign=\"left\">顾客体验</th>\n",
       "    </tr>\n",
       "    <tr>\n",
       "      <th>gender</th>\n",
       "      <th>female</th>\n",
       "      <th>male</th>\n",
       "      <th>female</th>\n",
       "      <th>male</th>\n",
       "      <th>female</th>\n",
       "      <th>male</th>\n",
       "      <th>female</th>\n",
       "      <th>male</th>\n",
       "      <th>female</th>\n",
       "      <th>male</th>\n",
       "    </tr>\n",
       "  </thead>\n",
       "  <tbody>\n",
       "    <tr>\n",
       "      <th>粉丝</th>\n",
       "      <td>130</td>\n",
       "      <td>106</td>\n",
       "      <td>447</td>\n",
       "      <td>401</td>\n",
       "      <td>436</td>\n",
       "      <td>464</td>\n",
       "      <td>315</td>\n",
       "      <td>360</td>\n",
       "      <td>633</td>\n",
       "      <td>644</td>\n",
       "    </tr>\n",
       "    <tr>\n",
       "      <th>text</th>\n",
       "      <td>130</td>\n",
       "      <td>106</td>\n",
       "      <td>447</td>\n",
       "      <td>401</td>\n",
       "      <td>436</td>\n",
       "      <td>464</td>\n",
       "      <td>315</td>\n",
       "      <td>360</td>\n",
       "      <td>633</td>\n",
       "      <td>644</td>\n",
       "    </tr>\n",
       "  </tbody>\n",
       "</table>\n",
       "</div>"
      ],
      "text/plain": [
       "Topic  others        人文环境        民俗文化        自然风景        顾客体验     \n",
       "gender female male female male female male female male female male\n",
       "粉丝        130  106    447  401    436  464    315  360    633  644\n",
       "text      130  106    447  401    436  464    315  360    633  644"
      ]
     },
     "execution_count": 291,
     "metadata": {},
     "output_type": "execute_result"
    }
   ],
   "source": [
    "df_gender_fans_sta.groupby(['Topic','gender']).count().T"
   ]
  },
  {
   "cell_type": "code",
   "execution_count": 292,
   "metadata": {},
   "outputs": [],
   "source": [
    "index = df_gender_fans_sta['Topic'].value_counts(normalize = True, dropna = False).index\n",
    "statistics = df_gender_fans_sta.groupby(['Topic','gender']).text.count().T.values.tolist()\n",
    "\n",
    "female_count = df_gender_fans_sta[ df_gender_fans_sta['gender']=='female'].shape[0]   #男游客评论人数\n",
    "male_count = df_gender_fans_sta[ df_gender_fans_sta['gender']=='male'].shape[0]       #女游客评论人数\n",
    "\n",
    "a,b = [],[]\n",
    "for i in range(len(statistics)):                                                      #标准化\n",
    "    if i%2 ==0:\n",
    "        a.append(statistics[i]/female_count)\n",
    "    else:\n",
    "        b.append(statistics[i]/male_count)\n",
    "for i in range(len(a)):\n",
    "    a[i],b[i] = a[i]/(a[i]+b[i]),b[i]/(a[i]+b[i])"
   ]
  },
  {
   "cell_type": "code",
   "execution_count": 293,
   "metadata": {},
   "outputs": [
    {
     "data": {
      "image/png": "[encoded data removed]",
      "text/plain": [
       "<Figure size 432x288 with 1 Axes>"
      ]
     },
     "metadata": {
      "needs_background": "light"
     },
     "output_type": "display_data"
    }
   ],
   "source": [
    "plt.bar(index, a, width=0.4, label='female')\n",
    "plt.bar(index, b, width=0.4, bottom=a, label= 'male')\n",
    "plt.axhline(y = 0.5,ls ='--')\n",
    "plt.legend()\n",
    "plt.show()"
   ]
  },
  {
   "cell_type": "code",
   "execution_count": 322,
   "metadata": {},
   "outputs": [
    {
     "data": {
      "text/plain": [
       "Topic\n",
       "others     30\n",
       "人文环境      114\n",
       "民俗文化      106\n",
       "自然风景       53\n",
       "顾客体验       96\n",
       "Name: text, dtype: int64"
      ]
     },
     "execution_count": 322,
     "metadata": {},
     "output_type": "execute_result"
    }
   ],
   "source": [
    "fans_sta = df_gender_fans_sta[df_gender_fans_sta['粉丝']>500].groupby('Topic').text.count()\n",
    "fans_sta"
   ]
  },
  {
   "cell_type": "code",
   "execution_count": 320,
   "metadata": {},
   "outputs": [
    {
     "data": {
      "text/plain": [
       "<BarContainer object of 5 artists>"
      ]
     },
     "execution_count": 320,
     "metadata": {},
     "output_type": "execute_result"
    },
    {
     "data": {
      "image/png": "[encoded data removed]",
      "text/plain": [
       "<Figure size 432x288 with 1 Axes>"
      ]
     },
     "metadata": {
      "needs_background": "light"
     },
     "output_type": "display_data"
    }
   ],
   "source": [
    "plt.bar(fans_sta.index,fans_sta.tolist())"
   ]
  },
  {
   "cell_type": "code",
   "execution_count": null,
   "metadata": {},
   "outputs": [],
   "source": []
  },
  {
   "cell_type": "code",
   "execution_count": null,
   "metadata": {},
   "outputs": [],
   "source": []
  },
  {
   "cell_type": "code",
   "execution_count": null,
   "metadata": {},
   "outputs": [],
   "source": []
  },
  {
   "cell_type": "code",
   "execution_count": null,
   "metadata": {},
   "outputs": [],
   "source": []
  },
  {
   "cell_type": "code",
   "execution_count": null,
   "metadata": {},
   "outputs": [],
   "source": []
  },
  {
   "cell_type": "code",
   "execution_count": null,
   "metadata": {},
   "outputs": [],
   "source": []
  },
  {
   "cell_type": "code",
   "execution_count": null,
   "metadata": {},
   "outputs": [],
   "source": []
  },
  {
   "cell_type": "code",
   "execution_count": null,
   "metadata": {},
   "outputs": [],
   "source": []
  },
  {
   "cell_type": "code",
   "execution_count": 44,
   "metadata": {},
   "outputs": [],
   "source": [
    "#找到给定主题最有贡献的文档，并通过阅读该文档来推断该主题\n",
    "#sent_topics_sorteddf_mallet = pd.DataFrame()\n",
    "\n",
    "#sent_topics_outdf_grpd = df_topic_sents_keywords.groupby('Dominant_Topic')\n",
    "\n",
    "#for i, grp in sent_topics_outdf_grpd:\n",
    "#    sent_topics_sorteddf_mallet = pd.concat([sent_topics_sorteddf_mallet, grp.sort_values(['Perc_Contribution'], ascending=[0]).head(1)],  axis=0)# Reset Index\n",
    "#sent_topics_sorteddf_mallet.reset_index(drop=True, inplace=True)# Format\n",
    "#sent_topics_sorteddf_mallet.columns = ['Topic_Num', \"Topic_Perc_Contrib\", \"Keywords\", \"Text\"]# Show\n",
    "#sent_topics_sorteddf_mallet"
   ]
  },
  {
   "cell_type": "code",
   "execution_count": 45,
   "metadata": {},
   "outputs": [],
   "source": [
    "#主题的数量和分布\n",
    "#topic_counts = df_topic_sents_keywords['Dominant_Topic'].value_counts()# Percentage of Documents for Each Topic\n",
    "#topic_contribution = round(topic_counts/topic_counts.sum(), 4)# Topic Number and Keywords\n",
    "#topic_num_keywords = df_topic_sents_keywords[['Dominant_Topic', 'Topic_Keywords']]# Concatenate Column wise\n",
    "#df_dominant_topics = pd.concat([topic_num_keywords, topic_counts, topic_contribution], axis=1)# Change Column names\n",
    "#df_dominant_topics.columns = ['Dominant_Topic', 'Topic_Keywords', 'Num_Documents', 'Perc_Documents']# Show\n",
    "#df_dominant_topics"
   ]
  },
  {
   "cell_type": "code",
   "execution_count": null,
   "metadata": {},
   "outputs": [],
   "source": []
  },
  {
   "cell_type": "code",
   "execution_count": null,
   "metadata": {},
   "outputs": [],
   "source": []
  },
  {
   "cell_type": "code",
   "execution_count": null,
   "metadata": {},
   "outputs": [],
   "source": []
  },
  {
   "cell_type": "code",
   "execution_count": null,
   "metadata": {},
   "outputs": [],
   "source": []
  },
  {
   "cell_type": "code",
   "execution_count": null,
   "metadata": {},
   "outputs": [],
   "source": []
  },
  {
   "cell_type": "code",
   "execution_count": null,
   "metadata": {},
   "outputs": [],
   "source": []
  },
  {
   "cell_type": "code",
   "execution_count": null,
   "metadata": {},
   "outputs": [],
   "source": []
  },
  {
   "cell_type": "code",
   "execution_count": null,
   "metadata": {},
   "outputs": [],
   "source": []
  }
 ],
 "metadata": {
  "kernelspec": {
   "display_name": "Python 3",
   "language": "python",
   "name": "python3"
  },
  "language_info": {
   "codemirror_mode": {
    "name": "ipython",
    "version": 3
   },
   "file_extension": ".py",
   "mimetype": "text/x-python",
   "name": "python",
   "nbconvert_exporter": "python",
   "pygments_lexer": "ipython3",
   "version": "3.7.3"
  }
 },
 "nbformat": 4,
 "nbformat_minor": 2
}
